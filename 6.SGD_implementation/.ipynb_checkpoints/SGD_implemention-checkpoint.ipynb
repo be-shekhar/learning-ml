{
 "cells": [
  {
   "cell_type": "code",
   "execution_count": 39,
   "metadata": {
    "colab": {},
    "colab_type": "code",
    "id": "REYPoTJ1Af7u"
   },
   "outputs": [],
   "source": [
    "import warnings\n",
    "warnings.filterwarnings(\"ignore\")\n",
    "from sklearn.datasets import load_boston\n",
    "from random import seed\n",
    "from random import randrange\n",
    "from csv import reader\n",
    "from math import sqrt\n",
    "from sklearn import preprocessing\n",
    "import pandas as pd\n",
    "import numpy as np\n",
    "import matplotlib.pyplot as plt\n",
    "from prettytable import PrettyTable\n",
    "from sklearn.linear_model import SGDRegressor\n",
    "from sklearn import preprocessing\n",
    "from sklearn.metrics import mean_squared_error\n",
    "\n",
    "from random import randint\n",
    "from sklearn.model_selection import train_test_split\n",
    "from tqdm import tqdm"
   ]
  },
  {
   "cell_type": "code",
   "execution_count": 6,
   "metadata": {
    "colab": {},
    "colab_type": "code",
    "id": "NTQ2iH-kAwbo"
   },
   "outputs": [],
   "source": [
    "train_x = load_boston().data\n",
    "train_y = load_boston().target"
   ]
  },
  {
   "cell_type": "code",
   "execution_count": 7,
   "metadata": {
    "colab": {},
    "colab_type": "code",
    "id": "FgUW39s6Be0U"
   },
   "outputs": [],
   "source": [
    "scaler = preprocessing.StandardScaler().fit(train_x)\n",
    "train_x = scaler.transform(train_x)"
   ]
  },
  {
   "cell_type": "code",
   "execution_count": 8,
   "metadata": {
    "colab": {
     "base_uri": "https://localhost:8080/",
     "height": 34
    },
    "colab_type": "code",
    "executionInfo": {
     "elapsed": 879,
     "status": "ok",
     "timestamp": 1545718892607,
     "user": {
      "displayName": "Applied AI Course",
      "photoUrl": "https://lh5.googleusercontent.com/-9_3A9F-kDXs/AAAAAAAAAAI/AAAAAAAAACw/IprjYvUuoXQ/s64/photo.jpg",
      "userId": "00484516897554883881"
     },
     "user_tz": -330
    },
    "id": "HNu1sXtEBBS2",
    "outputId": "a0c5d3d0-345c-4a34-8ccf-0d9f3d7d23fd"
   },
   "outputs": [
    {
     "name": "stdout",
     "output_type": "stream",
     "text": [
      "22.798202121056086\n"
     ]
    }
   ],
   "source": [
    "clf = SGDRegressor()\n",
    "clf.fit(train_x, train_y)\n",
    "print(mean_squared_error(train_y, clf.predict(train_x)))"
   ]
  },
  {
   "cell_type": "code",
   "execution_count": 13,
   "metadata": {},
   "outputs": [
    {
     "data": {
      "text/plain": [
       "(506, 13)"
      ]
     },
     "execution_count": 13,
     "metadata": {},
     "output_type": "execute_result"
    }
   ],
   "source": [
    "train_x.shape"
   ]
  },
  {
   "cell_type": "code",
   "execution_count": 17,
   "metadata": {},
   "outputs": [],
   "source": [
    "train_x, test_x, train_y, test_y = train_test_split(train_x, train_y, test_size=0.3)"
   ]
  },
  {
   "cell_type": "code",
   "execution_count": 29,
   "metadata": {},
   "outputs": [
    {
     "data": {
      "text/plain": [
       "(354, 13)"
      ]
     },
     "execution_count": 29,
     "metadata": {},
     "output_type": "execute_result"
    }
   ],
   "source": [
    "train_x.shape"
   ]
  },
  {
   "cell_type": "code",
   "execution_count": 65,
   "metadata": {},
   "outputs": [],
   "source": [
    "def stochastic_gradient_descent(learning_rate, w_i, b_i, x_train, y_train):\n",
    "    n_iters = 500\n",
    "    partial_w = partial_b = 0\n",
    "#     for i in tqdm(range(n_iters)):\n",
    "    for i in range(n_iters):\n",
    "        n_samples = randint(1, x_train.shape[0])\n",
    "        x_t = x_train[:n_samples]\n",
    "        y_t = y_train[:n_samples]\n",
    "#         print(x_t.shape, y_t.shape)\n",
    "#         print(x_t[0])\n",
    "        for idx, x_i in enumerate(range(x_t.shape[0])):\n",
    "            partial_w += (-2) * np.dot(x_i, (y_t[idx] - (np.dot(w_i, x_i) + b_i)))\n",
    "            partial_b += (-2) * (y_t[idx] - (np.dot(w_i, x_i) + b_i))\n",
    "        w_new = w_i - (learning_rate * partial_w)\n",
    "        b_new = b_i - (learning_rate * partial_b)\n",
    "        learning_rate = learning_rate/2\n",
    "#         print(w_new)\n",
    "#         print(b_new)\n",
    "        if np.allclose(w_new, w_i):\n",
    "            print(\"break\", i)\n",
    "            break\n",
    "        w_i = w_new\n",
    "        b_i = b_new\n",
    "    print(w_i)\n",
    "    print(b_i)\n",
    "    return w_i, b_i"
   ]
  },
  {
   "cell_type": "code",
   "execution_count": 66,
   "metadata": {},
   "outputs": [
    {
     "name": "stdout",
     "output_type": "stream",
     "text": [
      "break 37\n",
      "[ 4.26057613e+14  1.52316163e+14  3.64530861e+14  3.99607518e+14\n",
      "  3.86442559e+13  2.97143808e+14  2.37382705e+14 -1.14264406e+14\n",
      "  1.90090108e+14 -1.04091524e+14  1.70925162e+14  1.74262192e+14\n",
      " -4.15681302e+13]\n",
      "[ 2.66068242e+12  9.51197502e+11  2.27645469e+12  2.49550452e+12\n",
      "  2.41329081e+11  1.85563004e+12  1.48242860e+12 -7.13568508e+11\n",
      "  1.18709159e+12 -6.50039996e+11  1.06740863e+12  1.08824801e+12\n",
      " -2.59588351e+11]\n"
     ]
    }
   ],
   "source": [
    "argmin_w, argmin_b = stochastic_gradient_descent(\n",
    "    0.001, np.random.rand(13), np.random.rand(), train_x, train_y\n",
    ")"
   ]
  },
  {
   "cell_type": "code",
   "execution_count": 67,
   "metadata": {},
   "outputs": [
    {
     "data": {
      "text/plain": [
       "array([ 4.26057613e+14,  1.52316163e+14,  3.64530861e+14,  3.99607518e+14,\n",
       "        3.86442559e+13,  2.97143808e+14,  2.37382705e+14, -1.14264406e+14,\n",
       "        1.90090108e+14, -1.04091524e+14,  1.70925162e+14,  1.74262192e+14,\n",
       "       -4.15681302e+13])"
      ]
     },
     "execution_count": 67,
     "metadata": {},
     "output_type": "execute_result"
    }
   ],
   "source": [
    "argmin_w"
   ]
  },
  {
   "cell_type": "code",
   "execution_count": 68,
   "metadata": {},
   "outputs": [
    {
     "data": {
      "text/plain": [
       "array([ 2.66068242e+12,  9.51197502e+11,  2.27645469e+12,  2.49550452e+12,\n",
       "        2.41329081e+11,  1.85563004e+12,  1.48242860e+12, -7.13568508e+11,\n",
       "        1.18709159e+12, -6.50039996e+11,  1.06740863e+12,  1.08824801e+12,\n",
       "       -2.59588351e+11])"
      ]
     },
     "execution_count": 68,
     "metadata": {},
     "output_type": "execute_result"
    }
   ],
   "source": [
    "argmin_b"
   ]
  },
  {
   "cell_type": "code",
   "execution_count": 27,
   "metadata": {},
   "outputs": [
    {
     "data": {
      "text/plain": [
       "5"
      ]
     },
     "execution_count": 27,
     "metadata": {},
     "output_type": "execute_result"
    }
   ],
   "source": [
    "randint(1, 10)"
   ]
  },
  {
   "cell_type": "code",
   "execution_count": 30,
   "metadata": {},
   "outputs": [
    {
     "data": {
      "text/plain": [
       "(2, 13)"
      ]
     },
     "execution_count": 30,
     "metadata": {},
     "output_type": "execute_result"
    }
   ],
   "source": [
    "train_x[:2].shape"
   ]
  },
  {
   "cell_type": "code",
   "execution_count": 38,
   "metadata": {},
   "outputs": [
    {
     "data": {
      "text/plain": [
       "(1, 13)"
      ]
     },
     "execution_count": 38,
     "metadata": {},
     "output_type": "execute_result"
    }
   ],
   "source": [
    "train_x[:1].shape"
   ]
  },
  {
   "cell_type": "code",
   "execution_count": 44,
   "metadata": {},
   "outputs": [
    {
     "data": {
      "text/plain": [
       "array([0.96698531, 0.71445032, 0.93537141, 0.11810863, 0.16753207,\n",
       "       0.79678534, 0.39182201, 0.51772956, 0.90124273, 0.35443639,\n",
       "       0.84037284, 0.03935515, 0.7490449 ])"
      ]
     },
     "execution_count": 44,
     "metadata": {},
     "output_type": "execute_result"
    }
   ],
   "source": [
    "np.random.rand(13)"
   ]
  }
 ],
 "metadata": {
  "colab": {
   "name": "Untitled3.ipynb",
   "provenance": [],
   "version": "0.3.2"
  },
  "kernelspec": {
   "display_name": "Python 3",
   "language": "python",
   "name": "python3"
  },
  "language_info": {
   "codemirror_mode": {
    "name": "ipython",
    "version": 3
   },
   "file_extension": ".py",
   "mimetype": "text/x-python",
   "name": "python",
   "nbconvert_exporter": "python",
   "pygments_lexer": "ipython3",
   "version": "3.6.8"
  }
 },
 "nbformat": 4,
 "nbformat_minor": 1
}
