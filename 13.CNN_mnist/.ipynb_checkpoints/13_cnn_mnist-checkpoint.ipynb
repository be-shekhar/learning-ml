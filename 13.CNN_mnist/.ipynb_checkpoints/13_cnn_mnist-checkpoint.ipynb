{
 "cells": [
  {
   "cell_type": "code",
   "execution_count": 1,
   "metadata": {
    "colab": {
     "base_uri": "https://localhost:8080/",
     "height": 34
    },
    "colab_type": "code",
    "id": "LrELv42oqtC-",
    "outputId": "88236aab-4036-4764-8d70-b402a6ce99c2"
   },
   "outputs": [
    {
     "name": "stderr",
     "output_type": "stream",
     "text": [
      "Using TensorFlow backend.\n"
     ]
    }
   ],
   "source": [
    "%matplotlib inline\n",
    "import warnings\n",
    "warnings.filterwarnings(\"ignore\")\n",
    "\n",
    "from __future__ import print_function\n",
    "\n",
    "import tensorflow as tf\n",
    "\n",
    "import keras\n",
    "from keras.datasets import mnist\n",
    "from keras.models import Sequential\n",
    "from keras.layers import Dense, Dropout, Flatten\n",
    "from keras.layers import Conv2D, MaxPooling2D\n",
    "from keras import backend as K\n",
    "from keras.layers.normalization import BatchNormalization"
   ]
  },
  {
   "cell_type": "code",
   "execution_count": 0,
   "metadata": {
    "colab": {},
    "colab_type": "code",
    "id": "9H3JvVkScrZT"
   },
   "outputs": [],
   "source": [
    "import matplotlib.pyplot as plt"
   ]
  },
  {
   "cell_type": "code",
   "execution_count": 0,
   "metadata": {
    "colab": {},
    "colab_type": "code",
    "id": "18s9TXnNaVXl"
   },
   "outputs": [],
   "source": [
    "config = tf.ConfigProto( device_count = {'GPU': 1 , 'CPU': 56} ) \n",
    "sess = tf.Session(config=config) \n",
    "keras.backend.set_session(sess)"
   ]
  },
  {
   "cell_type": "code",
   "execution_count": 0,
   "metadata": {
    "colab": {},
    "colab_type": "code",
    "id": "sFg0N_oqaFOf"
   },
   "outputs": [],
   "source": [
    "def plt_dynamic(fig, x, vy, ty, ax, colors=['b']):\n",
    "    ax.plot(x, vy, 'b', label=\"Validation Loss\")\n",
    "    ax.plot(x, ty, 'r', label=\"Train Loss\")\n",
    "    plt.legend()\n",
    "    plt.grid()\n",
    "    fig.canvas.draw()"
   ]
  },
  {
   "cell_type": "code",
   "execution_count": 5,
   "metadata": {
    "colab": {
     "base_uri": "https://localhost:8080/",
     "height": 51
    },
    "colab_type": "code",
    "id": "iYrfygMRq3e6",
    "outputId": "62f851ec-0a7e-45de-ec8d-4a57204dfb5b"
   },
   "outputs": [
    {
     "name": "stdout",
     "output_type": "stream",
     "text": [
      "Downloading data from https://s3.amazonaws.com/img-datasets/mnist.npz\n",
      "11493376/11490434 [==============================] - 0s 0us/step\n"
     ]
    }
   ],
   "source": [
    "batch_size = 128\n",
    "num_classes = 10\n",
    "epochs = 12\n",
    "\n",
    "# input image dimensions\n",
    "img_rows, img_cols = 28, 28\n",
    "\n",
    "# the data, split between train and test sets\n",
    "(x_train, y_train), (x_test, y_test) = mnist.load_data()"
   ]
  },
  {
   "cell_type": "code",
   "execution_count": 6,
   "metadata": {
    "colab": {
     "base_uri": "https://localhost:8080/",
     "height": 68
    },
    "colab_type": "code",
    "id": "MpJ-0UZNq57Y",
    "outputId": "ccd3c84d-d873-4c73-c4c2-9945d0766add"
   },
   "outputs": [
    {
     "name": "stdout",
     "output_type": "stream",
     "text": [
      "x_train shape: (60000, 28, 28, 1)\n",
      "60000 train samples\n",
      "10000 test samples\n"
     ]
    }
   ],
   "source": [
    "if K.image_data_format() == 'channels_first':\n",
    "    x_train = x_train.reshape(x_train.shape[0], 1, img_rows, img_cols)\n",
    "    x_test = x_test.reshape(x_test.shape[0], 1, img_rows, img_cols)\n",
    "    input_shape = (1, img_rows, img_cols)\n",
    "else:\n",
    "    x_train = x_train.reshape(x_train.shape[0], img_rows, img_cols, 1)\n",
    "    x_test = x_test.reshape(x_test.shape[0], img_rows, img_cols, 1)\n",
    "    input_shape = (img_rows, img_cols, 1)\n",
    "\n",
    "x_train = x_train.astype('float32')\n",
    "x_test = x_test.astype('float32')\n",
    "x_train /= 255\n",
    "x_test /= 255\n",
    "print('x_train shape:', x_train.shape)\n",
    "print(x_train.shape[0], 'train samples')\n",
    "print(x_test.shape[0], 'test samples')\n",
    "\n",
    "# convert class vectors to binary class matrices\n",
    "y_train = keras.utils.to_categorical(y_train, num_classes)\n",
    "y_test = keras.utils.to_categorical(y_test, num_classes)"
   ]
  },
  {
   "cell_type": "markdown",
   "metadata": {
    "colab_type": "text",
    "id": "2ysrt2LEjrMF"
   },
   "source": [
    "## [1] 3x3 convolution kernel"
   ]
  },
  {
   "cell_type": "markdown",
   "metadata": {
    "colab_type": "text",
    "id": "qonLJFqxjzEC"
   },
   "source": [
    "### [1.1] Conv (32-64) | MaxPool | Dropout x2 | Dense"
   ]
  },
  {
   "cell_type": "code",
   "execution_count": 10,
   "metadata": {
    "colab": {
     "base_uri": "https://localhost:8080/",
     "height": 442
    },
    "colab_type": "code",
    "id": "ZZmb_ZsRq_wB",
    "outputId": "178ea1d8-e564-408c-b085-ca2dcb401d5a"
   },
   "outputs": [
    {
     "name": "stdout",
     "output_type": "stream",
     "text": [
      "Train on 60000 samples, validate on 10000 samples\n",
      "Epoch 1/12\n",
      "60000/60000 [==============================] - 10s 171us/step - loss: 0.3281 - acc: 0.8973 - val_loss: 0.0749 - val_acc: 0.9768\n",
      "Epoch 2/12\n",
      "60000/60000 [==============================] - 10s 163us/step - loss: 0.1368 - acc: 0.9588 - val_loss: 0.0520 - val_acc: 0.9833\n",
      "Epoch 3/12\n",
      "60000/60000 [==============================] - 10s 162us/step - loss: 0.1065 - acc: 0.9676 - val_loss: 0.0448 - val_acc: 0.9854\n",
      "Epoch 4/12\n",
      "60000/60000 [==============================] - 10s 162us/step - loss: 0.0934 - acc: 0.9714 - val_loss: 0.0398 - val_acc: 0.9859\n",
      "Epoch 5/12\n",
      "60000/60000 [==============================] - 10s 162us/step - loss: 0.0835 - acc: 0.9754 - val_loss: 0.0351 - val_acc: 0.9879\n",
      "Epoch 6/12\n",
      "60000/60000 [==============================] - 10s 163us/step - loss: 0.0805 - acc: 0.9767 - val_loss: 0.0341 - val_acc: 0.9893\n",
      "Epoch 7/12\n",
      "60000/60000 [==============================] - 10s 161us/step - loss: 0.0750 - acc: 0.9770 - val_loss: 0.0362 - val_acc: 0.9878\n",
      "Epoch 8/12\n",
      "60000/60000 [==============================] - 10s 162us/step - loss: 0.0718 - acc: 0.9782 - val_loss: 0.0309 - val_acc: 0.9897\n",
      "Epoch 9/12\n",
      "60000/60000 [==============================] - 10s 162us/step - loss: 0.0666 - acc: 0.9797 - val_loss: 0.0307 - val_acc: 0.9899\n",
      "Epoch 10/12\n",
      "60000/60000 [==============================] - 10s 162us/step - loss: 0.0643 - acc: 0.9806 - val_loss: 0.0307 - val_acc: 0.9895\n",
      "Epoch 11/12\n",
      "60000/60000 [==============================] - 10s 163us/step - loss: 0.0631 - acc: 0.9814 - val_loss: 0.0308 - val_acc: 0.9894\n",
      "Epoch 12/12\n",
      "60000/60000 [==============================] - 10s 161us/step - loss: 0.0586 - acc: 0.9831 - val_loss: 0.0285 - val_acc: 0.9903\n"
     ]
    }
   ],
   "source": [
    "model = Sequential()\n",
    "model.add(Conv2D(32, kernel_size=(3, 3),\n",
    "                 activation='relu',\n",
    "                 input_shape=input_shape))\n",
    "model.add(Conv2D(64, (3, 3), activation='relu'))\n",
    "model.add(MaxPooling2D(pool_size=(2, 2)))\n",
    "model.add(Dropout(rate=0.75))\n",
    "model.add(Flatten())\n",
    "model.add(Dense(128, activation='relu'))\n",
    "model.add(Dropout(rate=0.5))\n",
    "model.add(Dense(num_classes, activation='softmax'))\n",
    "\n",
    "model.compile(loss=keras.losses.categorical_crossentropy,\n",
    "              optimizer=keras.optimizers.Adadelta(),\n",
    "              metrics=['accuracy'])\n",
    "\n",
    "history = model.fit(x_train, y_train,\n",
    "              batch_size=batch_size,\n",
    "              epochs=epochs,\n",
    "              verbose=1,\n",
    "              validation_data=(x_test, y_test))\n"
   ]
  },
  {
   "cell_type": "code",
   "execution_count": 12,
   "metadata": {
    "colab": {
     "base_uri": "https://localhost:8080/",
     "height": 408
    },
    "colab_type": "code",
    "id": "sZ4FNweldu1u",
    "outputId": "8f632c76-25c6-44a1-d920-6435a8e9da78"
   },
   "outputs": [
    {
     "name": "stdout",
     "output_type": "stream",
     "text": [
      "_________________________________________________________________\n",
      "Layer (type)                 Output Shape              Param #   \n",
      "=================================================================\n",
      "conv2d_3 (Conv2D)            (None, 26, 26, 32)        320       \n",
      "_________________________________________________________________\n",
      "conv2d_4 (Conv2D)            (None, 24, 24, 64)        18496     \n",
      "_________________________________________________________________\n",
      "max_pooling2d_2 (MaxPooling2 (None, 12, 12, 64)        0         \n",
      "_________________________________________________________________\n",
      "dropout_3 (Dropout)          (None, 12, 12, 64)        0         \n",
      "_________________________________________________________________\n",
      "flatten_2 (Flatten)          (None, 9216)              0         \n",
      "_________________________________________________________________\n",
      "dense_3 (Dense)              (None, 128)               1179776   \n",
      "_________________________________________________________________\n",
      "dropout_4 (Dropout)          (None, 128)               0         \n",
      "_________________________________________________________________\n",
      "dense_4 (Dense)              (None, 10)                1290      \n",
      "=================================================================\n",
      "Total params: 1,199,882\n",
      "Trainable params: 1,199,882\n",
      "Non-trainable params: 0\n",
      "_________________________________________________________________\n"
     ]
    }
   ],
   "source": [
    "model.summary()"
   ]
  },
  {
   "cell_type": "code",
   "execution_count": 11,
   "metadata": {
    "colab": {
     "base_uri": "https://localhost:8080/",
     "height": 313
    },
    "colab_type": "code",
    "id": "WSGIRXo3bqrx",
    "outputId": "fe10eb9b-01de-4794-ec42-c1e486affca5"
   },
   "outputs": [
    {
     "name": "stdout",
     "output_type": "stream",
     "text": [
      "Test score: 0.02851004902694258\n",
      "Test accuracy: 0.9903\n"
     ]
    },
    {
     "data": {
      "image/png": "[encoded data removed]",
      "text/plain": [
       "<Figure size 432x288 with 1 Axes>"
      ]
     },
     "metadata": {
      "tags": []
     },
     "output_type": "display_data"
    }
   ],
   "source": [
    "score = model.evaluate(x_test, y_test, verbose=0) \n",
    "print('Test score:', score[0]) \n",
    "print('Test accuracy:', score[1])\n",
    "\n",
    "fig,ax = plt.subplots(1,1)\n",
    "ax.set_xlabel('epoch') \n",
    "ax.set_ylabel('Categorical Crossentropy Loss')\n",
    "\n",
    "# list of epoch numbers\n",
    "x = list(range(1,epochs+1))\n",
    "\n",
    "vy = history.history['val_loss']\n",
    "ty = history.history['loss']\n",
    "plt_dynamic(fig, x, vy, ty, ax)"
   ]
  },
  {
   "cell_type": "markdown",
   "metadata": {
    "colab_type": "text",
    "id": "vGUO_xp9kkG7"
   },
   "source": [
    "### [1.2] Conv (64-32) | MaxPool | Dropout x2 | Dense"
   ]
  },
  {
   "cell_type": "code",
   "execution_count": 13,
   "metadata": {
    "colab": {
     "base_uri": "https://localhost:8080/",
     "height": 833
    },
    "colab_type": "code",
    "id": "OgrHc0O2cPNo",
    "outputId": "a0c4d795-b3f0-4469-d5b2-bbe6bd52c6a9"
   },
   "outputs": [
    {
     "name": "stdout",
     "output_type": "stream",
     "text": [
      "_________________________________________________________________\n",
      "Layer (type)                 Output Shape              Param #   \n",
      "=================================================================\n",
      "conv2d_5 (Conv2D)            (None, 26, 26, 64)        640       \n",
      "_________________________________________________________________\n",
      "conv2d_6 (Conv2D)            (None, 24, 24, 32)        18464     \n",
      "_________________________________________________________________\n",
      "max_pooling2d_3 (MaxPooling2 (None, 12, 12, 32)        0         \n",
      "_________________________________________________________________\n",
      "dropout_5 (Dropout)          (None, 12, 12, 32)        0         \n",
      "_________________________________________________________________\n",
      "flatten_3 (Flatten)          (None, 4608)              0         \n",
      "_________________________________________________________________\n",
      "dense_5 (Dense)              (None, 128)               589952    \n",
      "_________________________________________________________________\n",
      "dropout_6 (Dropout)          (None, 128)               0         \n",
      "_________________________________________________________________\n",
      "dense_6 (Dense)              (None, 10)                1290      \n",
      "=================================================================\n",
      "Total params: 610,346\n",
      "Trainable params: 610,346\n",
      "Non-trainable params: 0\n",
      "_________________________________________________________________\n",
      "Train on 60000 samples, validate on 10000 samples\n",
      "Epoch 1/12\n",
      "60000/60000 [==============================] - 9s 158us/step - loss: 0.4017 - acc: 0.8737 - val_loss: 0.0870 - val_acc: 0.9725\n",
      "Epoch 2/12\n",
      "60000/60000 [==============================] - 8s 139us/step - loss: 0.1730 - acc: 0.9474 - val_loss: 0.0616 - val_acc: 0.9814\n",
      "Epoch 3/12\n",
      "60000/60000 [==============================] - 8s 137us/step - loss: 0.1364 - acc: 0.9586 - val_loss: 0.0524 - val_acc: 0.9834\n",
      "Epoch 4/12\n",
      "60000/60000 [==============================] - 8s 135us/step - loss: 0.1181 - acc: 0.9638 - val_loss: 0.0463 - val_acc: 0.9851\n",
      "Epoch 5/12\n",
      "60000/60000 [==============================] - 9s 146us/step - loss: 0.1075 - acc: 0.9679 - val_loss: 0.0483 - val_acc: 0.9845\n",
      "Epoch 6/12\n",
      "60000/60000 [==============================] - 9s 149us/step - loss: 0.0993 - acc: 0.9702 - val_loss: 0.0409 - val_acc: 0.9868\n",
      "Epoch 7/12\n",
      "60000/60000 [==============================] - 9s 146us/step - loss: 0.0959 - acc: 0.9721 - val_loss: 0.0377 - val_acc: 0.9875\n",
      "Epoch 8/12\n",
      "60000/60000 [==============================] - 9s 148us/step - loss: 0.0904 - acc: 0.9725 - val_loss: 0.0385 - val_acc: 0.9871\n",
      "Epoch 9/12\n",
      "60000/60000 [==============================] - 9s 148us/step - loss: 0.0867 - acc: 0.9747 - val_loss: 0.0352 - val_acc: 0.9878\n",
      "Epoch 10/12\n",
      "60000/60000 [==============================] - 9s 148us/step - loss: 0.0832 - acc: 0.9751 - val_loss: 0.0348 - val_acc: 0.9877\n",
      "Epoch 11/12\n",
      "60000/60000 [==============================] - 9s 149us/step - loss: 0.0814 - acc: 0.9759 - val_loss: 0.0333 - val_acc: 0.9887\n",
      "Epoch 12/12\n",
      "60000/60000 [==============================] - 9s 148us/step - loss: 0.0792 - acc: 0.9761 - val_loss: 0.0335 - val_acc: 0.9893\n"
     ]
    }
   ],
   "source": [
    "model = Sequential()\n",
    "model.add(Conv2D(\n",
    "    64, kernel_size=(3, 3), activation='relu', input_shape=input_shape\n",
    "))\n",
    "model.add(Conv2D(32, (3, 3), activation='relu'))\n",
    "model.add(MaxPooling2D(pool_size=(2, 2)))\n",
    "model.add(Dropout(rate=0.75))\n",
    "model.add(Flatten())\n",
    "model.add(Dense(128, activation='relu'))\n",
    "model.add(Dropout(rate=0.5))\n",
    "model.add(Dense(num_classes, activation='softmax'))\n",
    "\n",
    "model.compile(loss=keras.losses.categorical_crossentropy,\n",
    "              optimizer=keras.optimizers.Adadelta(),\n",
    "              metrics=['accuracy'])\n",
    "\n",
    "model.summary()\n",
    "\n",
    "history = model.fit(x_train, y_train,\n",
    "              batch_size=batch_size,\n",
    "              epochs=epochs,\n",
    "              verbose=1,\n",
    "              validation_data=(x_test, y_test))\n"
   ]
  },
  {
   "cell_type": "code",
   "execution_count": 14,
   "metadata": {
    "colab": {
     "base_uri": "https://localhost:8080/",
     "height": 313
    },
    "colab_type": "code",
    "id": "wVB8Vwhsi-yX",
    "outputId": "7978f621-8a45-43ff-ed11-caf9b378a004"
   },
   "outputs": [
    {
     "name": "stdout",
     "output_type": "stream",
     "text": [
      "Test score: 0.03350720348919276\n",
      "Test accuracy: 0.9893\n"
     ]
    },
    {
     "data": {
      "image/png": "[encoded data removed]",
      "text/plain": [
       "<Figure size 432x288 with 1 Axes>"
      ]
     },
     "metadata": {
      "tags": []
     },
     "output_type": "display_data"
    }
   ],
   "source": [
    "score = model.evaluate(x_test, y_test, verbose=0) \n",
    "print('Test score:', score[0]) \n",
    "print('Test accuracy:', score[1])\n",
    "\n",
    "fig,ax = plt.subplots(1,1)\n",
    "ax.set_xlabel('epoch') \n",
    "ax.set_ylabel('Categorical Crossentropy Loss')\n",
    "\n",
    "# list of epoch numbers\n",
    "x = list(range(1,epochs+1))\n",
    "\n",
    "vy = history.history['val_loss']\n",
    "ty = history.history['loss']\n",
    "plt_dynamic(fig, x, vy, ty, ax)"
   ]
  },
  {
   "cell_type": "markdown",
   "metadata": {
    "colab_type": "text",
    "id": "6cRREIRdkqNZ"
   },
   "source": [
    "### [1.3] Conv (64-32) | MaxPool | Dropout x2 | Dense | Padding (same)"
   ]
  },
  {
   "cell_type": "code",
   "execution_count": 15,
   "metadata": {
    "colab": {
     "base_uri": "https://localhost:8080/",
     "height": 833
    },
    "colab_type": "code",
    "id": "ICGP10lVjDSk",
    "outputId": "9ff6e732-f332-46d8-f0c6-dc70a1005924"
   },
   "outputs": [
    {
     "name": "stdout",
     "output_type": "stream",
     "text": [
      "_________________________________________________________________\n",
      "Layer (type)                 Output Shape              Param #   \n",
      "=================================================================\n",
      "conv2d_7 (Conv2D)            (None, 28, 28, 64)        640       \n",
      "_________________________________________________________________\n",
      "conv2d_8 (Conv2D)            (None, 28, 28, 32)        18464     \n",
      "_________________________________________________________________\n",
      "max_pooling2d_4 (MaxPooling2 (None, 14, 14, 32)        0         \n",
      "_________________________________________________________________\n",
      "dropout_7 (Dropout)          (None, 14, 14, 32)        0         \n",
      "_________________________________________________________________\n",
      "flatten_4 (Flatten)          (None, 6272)              0         \n",
      "_________________________________________________________________\n",
      "dense_7 (Dense)              (None, 128)               802944    \n",
      "_________________________________________________________________\n",
      "dropout_8 (Dropout)          (None, 128)               0         \n",
      "_________________________________________________________________\n",
      "dense_8 (Dense)              (None, 10)                1290      \n",
      "=================================================================\n",
      "Total params: 823,338\n",
      "Trainable params: 823,338\n",
      "Non-trainable params: 0\n",
      "_________________________________________________________________\n",
      "Train on 60000 samples, validate on 10000 samples\n",
      "Epoch 1/12\n",
      "60000/60000 [==============================] - 11s 180us/step - loss: 0.3944 - acc: 0.8771 - val_loss: 0.0855 - val_acc: 0.9727\n",
      "Epoch 2/12\n",
      "60000/60000 [==============================] - 10s 162us/step - loss: 0.1675 - acc: 0.9500 - val_loss: 0.0613 - val_acc: 0.9816\n",
      "Epoch 3/12\n",
      "60000/60000 [==============================] - 10s 162us/step - loss: 0.1331 - acc: 0.9607 - val_loss: 0.0512 - val_acc: 0.9836\n",
      "Epoch 4/12\n",
      "60000/60000 [==============================] - 10s 164us/step - loss: 0.1185 - acc: 0.9643 - val_loss: 0.0452 - val_acc: 0.9850\n",
      "Epoch 5/12\n",
      "60000/60000 [==============================] - 10s 162us/step - loss: 0.1047 - acc: 0.9680 - val_loss: 0.0457 - val_acc: 0.9847\n",
      "Epoch 6/12\n",
      "60000/60000 [==============================] - 10s 162us/step - loss: 0.0998 - acc: 0.9701 - val_loss: 0.0400 - val_acc: 0.9868\n",
      "Epoch 7/12\n",
      "60000/60000 [==============================] - 10s 163us/step - loss: 0.0930 - acc: 0.9720 - val_loss: 0.0366 - val_acc: 0.9877\n",
      "Epoch 8/12\n",
      "60000/60000 [==============================] - 10s 163us/step - loss: 0.0911 - acc: 0.9730 - val_loss: 0.0350 - val_acc: 0.9876\n",
      "Epoch 9/12\n",
      "60000/60000 [==============================] - 10s 163us/step - loss: 0.0865 - acc: 0.9741 - val_loss: 0.0370 - val_acc: 0.9874\n",
      "Epoch 10/12\n",
      "60000/60000 [==============================] - 10s 162us/step - loss: 0.0833 - acc: 0.9756 - val_loss: 0.0358 - val_acc: 0.9875\n",
      "Epoch 11/12\n",
      "60000/60000 [==============================] - 10s 164us/step - loss: 0.0838 - acc: 0.9751 - val_loss: 0.0360 - val_acc: 0.9878\n",
      "Epoch 12/12\n",
      "60000/60000 [==============================] - 9s 158us/step - loss: 0.0834 - acc: 0.9759 - val_loss: 0.0322 - val_acc: 0.9888\n"
     ]
    }
   ],
   "source": [
    "model = Sequential()\n",
    "model.add(Conv2D(\n",
    "    64, kernel_size=(3, 3), activation='relu', input_shape=input_shape,\n",
    "    padding='same'\n",
    "))\n",
    "model.add(Conv2D(32, (3, 3), activation='relu', padding='same'))\n",
    "model.add(MaxPooling2D(pool_size=(2, 2)))\n",
    "model.add(Dropout(rate=0.75))\n",
    "model.add(Flatten())\n",
    "model.add(Dense(128, activation='relu'))\n",
    "model.add(Dropout(rate=0.5))\n",
    "model.add(Dense(num_classes, activation='softmax'))\n",
    "\n",
    "model.compile(loss=keras.losses.categorical_crossentropy,\n",
    "              optimizer=keras.optimizers.Adadelta(),\n",
    "              metrics=['accuracy'])\n",
    "\n",
    "model.summary()\n",
    "\n",
    "history = model.fit(x_train, y_train,\n",
    "              batch_size=batch_size,\n",
    "              epochs=epochs,\n",
    "              verbose=1,\n",
    "              validation_data=(x_test, y_test))\n"
   ]
  },
  {
   "cell_type": "code",
   "execution_count": 16,
   "metadata": {
    "colab": {
     "base_uri": "https://localhost:8080/",
     "height": 313
    },
    "colab_type": "code",
    "id": "SWjkRecKkajC",
    "outputId": "4c83d15d-f71c-4d91-9357-a6bdf15c2e29"
   },
   "outputs": [
    {
     "name": "stdout",
     "output_type": "stream",
     "text": [
      "Test score: 0.032174250473093705\n",
      "Test accuracy: 0.9888\n"
     ]
    },
    {
     "data": {
      "image/png": "[encoded data removed]",
      "text/plain": [
       "<Figure size 432x288 with 1 Axes>"
      ]
     },
     "metadata": {
      "tags": []
     },
     "output_type": "display_data"
    }
   ],
   "source": [
    "score = model.evaluate(x_test, y_test, verbose=0) \n",
    "print('Test score:', score[0]) \n",
    "print('Test accuracy:', score[1])\n",
    "\n",
    "fig,ax = plt.subplots(1,1)\n",
    "ax.set_xlabel('epoch') \n",
    "ax.set_ylabel('Categorical Crossentropy Loss')\n",
    "\n",
    "# list of epoch numbers\n",
    "x = list(range(1,epochs+1))\n",
    "\n",
    "vy = history.history['val_loss']\n",
    "ty = history.history['loss']\n",
    "plt_dynamic(fig, x, vy, ty, ax)"
   ]
  },
  {
   "cell_type": "markdown",
   "metadata": {
    "colab_type": "text",
    "id": "3htdZDsxk9U_"
   },
   "source": [
    "### [1.4] Conv (64-32) | MaxPool | Dropout x2 | Dense | Padding (same) | BN"
   ]
  },
  {
   "cell_type": "code",
   "execution_count": 7,
   "metadata": {
    "colab": {
     "base_uri": "https://localhost:8080/",
     "height": 1040
    },
    "colab_type": "code",
    "id": "GikKrnD1MTY5",
    "outputId": "e2287bf6-fef2-4072-b6c8-4b3aa976d476"
   },
   "outputs": [
    {
     "name": "stdout",
     "output_type": "stream",
     "text": [
      "WARNING:tensorflow:From /usr/local/lib/python3.6/dist-packages/tensorflow/python/framework/op_def_library.py:263: colocate_with (from tensorflow.python.framework.ops) is deprecated and will be removed in a future version.\n",
      "Instructions for updating:\n",
      "Colocations handled automatically by placer.\n",
      "WARNING:tensorflow:From /usr/local/lib/python3.6/dist-packages/keras/backend/tensorflow_backend.py:3445: calling dropout (from tensorflow.python.ops.nn_ops) with keep_prob is deprecated and will be removed in a future version.\n",
      "Instructions for updating:\n",
      "Please use `rate` instead of `keep_prob`. Rate should be set to `rate = 1 - keep_prob`.\n",
      "_________________________________________________________________\n",
      "Layer (type)                 Output Shape              Param #   \n",
      "=================================================================\n",
      "conv2d_1 (Conv2D)            (None, 28, 28, 64)        640       \n",
      "_________________________________________________________________\n",
      "conv2d_2 (Conv2D)            (None, 28, 28, 32)        18464     \n",
      "_________________________________________________________________\n",
      "max_pooling2d_1 (MaxPooling2 (None, 14, 14, 32)        0         \n",
      "_________________________________________________________________\n",
      "dropout_1 (Dropout)          (None, 14, 14, 32)        0         \n",
      "_________________________________________________________________\n",
      "flatten_1 (Flatten)          (None, 6272)              0         \n",
      "_________________________________________________________________\n",
      "dense_1 (Dense)              (None, 128)               802944    \n",
      "_________________________________________________________________\n",
      "batch_normalization_1 (Batch (None, 128)               512       \n",
      "_________________________________________________________________\n",
      "dropout_2 (Dropout)          (None, 128)               0         \n",
      "_________________________________________________________________\n",
      "dense_2 (Dense)              (None, 10)                1290      \n",
      "=================================================================\n",
      "Total params: 823,850\n",
      "Trainable params: 823,594\n",
      "Non-trainable params: 256\n",
      "_________________________________________________________________\n",
      "WARNING:tensorflow:From /usr/local/lib/python3.6/dist-packages/tensorflow/python/ops/math_ops.py:3066: to_int32 (from tensorflow.python.ops.math_ops) is deprecated and will be removed in a future version.\n",
      "Instructions for updating:\n",
      "Use tf.cast instead.\n",
      "Train on 60000 samples, validate on 10000 samples\n",
      "Epoch 1/12\n",
      "60000/60000 [==============================] - 13s 218us/step - loss: 0.3088 - acc: 0.9038 - val_loss: 0.0622 - val_acc: 0.9799\n",
      "Epoch 2/12\n",
      "60000/60000 [==============================] - 10s 159us/step - loss: 0.1320 - acc: 0.9589 - val_loss: 0.0580 - val_acc: 0.9815\n",
      "Epoch 3/12\n",
      "60000/60000 [==============================] - 10s 158us/step - loss: 0.1073 - acc: 0.9672 - val_loss: 0.0628 - val_acc: 0.9767\n",
      "Epoch 4/12\n",
      "60000/60000 [==============================] - 10s 159us/step - loss: 0.0968 - acc: 0.9700 - val_loss: 0.0360 - val_acc: 0.9879\n",
      "Epoch 5/12\n",
      "60000/60000 [==============================] - 9s 158us/step - loss: 0.0870 - acc: 0.9731 - val_loss: 0.0351 - val_acc: 0.9888\n",
      "Epoch 6/12\n",
      "60000/60000 [==============================] - 10s 160us/step - loss: 0.0816 - acc: 0.9745 - val_loss: 0.0335 - val_acc: 0.9891\n",
      "Epoch 7/12\n",
      "60000/60000 [==============================] - 10s 160us/step - loss: 0.0755 - acc: 0.9765 - val_loss: 0.0315 - val_acc: 0.9892\n",
      "Epoch 8/12\n",
      "60000/60000 [==============================] - 9s 158us/step - loss: 0.0746 - acc: 0.9772 - val_loss: 0.0302 - val_acc: 0.9893\n",
      "Epoch 9/12\n",
      "60000/60000 [==============================] - 9s 158us/step - loss: 0.0710 - acc: 0.9780 - val_loss: 0.0287 - val_acc: 0.9902\n",
      "Epoch 10/12\n",
      "60000/60000 [==============================] - 10s 159us/step - loss: 0.0676 - acc: 0.9789 - val_loss: 0.0318 - val_acc: 0.9888\n",
      "Epoch 11/12\n",
      "60000/60000 [==============================] - 9s 157us/step - loss: 0.0665 - acc: 0.9792 - val_loss: 0.0319 - val_acc: 0.9891\n",
      "Epoch 12/12\n",
      "60000/60000 [==============================] - 10s 158us/step - loss: 0.0657 - acc: 0.9792 - val_loss: 0.0273 - val_acc: 0.9896\n"
     ]
    }
   ],
   "source": [
    "model = Sequential()\n",
    "model.add(Conv2D(\n",
    "    64, kernel_size=(3, 3), activation='relu', input_shape=input_shape,\n",
    "    padding='same'\n",
    "))\n",
    "model.add(Conv2D(32, (3, 3), activation='relu', padding='same'))\n",
    "model.add(MaxPooling2D(pool_size=(2, 2)))\n",
    "model.add(Dropout(rate=0.75))\n",
    "model.add(Flatten())\n",
    "model.add(Dense(128, activation='relu'))\n",
    "model.add(BatchNormalization())\n",
    "model.add(Dropout(rate=0.5))\n",
    "model.add(Dense(num_classes, activation='softmax'))\n",
    "\n",
    "model.compile(loss=keras.losses.categorical_crossentropy,\n",
    "              optimizer=keras.optimizers.Adadelta(),\n",
    "              metrics=['accuracy'])\n",
    "\n",
    "model.summary()\n",
    "\n",
    "history = model.fit(x_train, y_train,\n",
    "              batch_size=batch_size,\n",
    "              epochs=epochs,\n",
    "              verbose=1,\n",
    "              validation_data=(x_test, y_test))\n"
   ]
  },
  {
   "cell_type": "code",
   "execution_count": 8,
   "metadata": {
    "colab": {
     "base_uri": "https://localhost:8080/",
     "height": 313
    },
    "colab_type": "code",
    "id": "ZtsenGVZMbLW",
    "outputId": "5b03354a-23e6-489d-bf5f-957fb40916c3"
   },
   "outputs": [
    {
     "name": "stdout",
     "output_type": "stream",
     "text": [
      "Test score: 0.02726459289830527\n",
      "Test accuracy: 0.9896\n"
     ]
    },
    {
     "data": {
      "image/png": "[encoded data removed]",
      "text/plain": [
       "<Figure size 432x288 with 1 Axes>"
      ]
     },
     "metadata": {
      "tags": []
     },
     "output_type": "display_data"
    }
   ],
   "source": [
    "score = model.evaluate(x_test, y_test, verbose=0) \n",
    "print('Test score:', score[0]) \n",
    "print('Test accuracy:', score[1])\n",
    "\n",
    "fig,ax = plt.subplots(1,1)\n",
    "ax.set_xlabel('epoch') \n",
    "ax.set_ylabel('Categorical Crossentropy Loss')\n",
    "\n",
    "# list of epoch numbers\n",
    "x = list(range(1,epochs+1))\n",
    "\n",
    "vy = history.history['val_loss']\n",
    "ty = history.history['loss']\n",
    "plt_dynamic(fig, x, vy, ty, ax)"
   ]
  },
  {
   "cell_type": "markdown",
   "metadata": {
    "colab_type": "text",
    "id": "W2y7QnfylDlK"
   },
   "source": [
    "### [1.5] Conv (64-32) | MaxPool | Dropout x2 | Dense (256-128) | Padding (same) | BN"
   ]
  },
  {
   "cell_type": "code",
   "execution_count": 9,
   "metadata": {
    "colab": {
     "base_uri": "https://localhost:8080/",
     "height": 935
    },
    "colab_type": "code",
    "id": "Jd0Yp4t3McMJ",
    "outputId": "f4f377a3-6fb4-45c8-be65-e91458516336"
   },
   "outputs": [
    {
     "name": "stdout",
     "output_type": "stream",
     "text": [
      "_________________________________________________________________\n",
      "Layer (type)                 Output Shape              Param #   \n",
      "=================================================================\n",
      "conv2d_3 (Conv2D)            (None, 28, 28, 64)        640       \n",
      "_________________________________________________________________\n",
      "conv2d_4 (Conv2D)            (None, 28, 28, 32)        18464     \n",
      "_________________________________________________________________\n",
      "max_pooling2d_2 (MaxPooling2 (None, 14, 14, 32)        0         \n",
      "_________________________________________________________________\n",
      "dropout_3 (Dropout)          (None, 14, 14, 32)        0         \n",
      "_________________________________________________________________\n",
      "flatten_2 (Flatten)          (None, 6272)              0         \n",
      "_________________________________________________________________\n",
      "dense_3 (Dense)              (None, 256)               1605888   \n",
      "_________________________________________________________________\n",
      "batch_normalization_2 (Batch (None, 256)               1024      \n",
      "_________________________________________________________________\n",
      "dropout_4 (Dropout)          (None, 256)               0         \n",
      "_________________________________________________________________\n",
      "dense_4 (Dense)              (None, 128)               32896     \n",
      "_________________________________________________________________\n",
      "dropout_5 (Dropout)          (None, 128)               0         \n",
      "_________________________________________________________________\n",
      "dense_5 (Dense)              (None, 10)                1290      \n",
      "=================================================================\n",
      "Total params: 1,660,202\n",
      "Trainable params: 1,659,690\n",
      "Non-trainable params: 512\n",
      "_________________________________________________________________\n",
      "Train on 60000 samples, validate on 10000 samples\n",
      "Epoch 1/12\n",
      "60000/60000 [==============================] - 12s 196us/step - loss: 0.4797 - acc: 0.8520 - val_loss: 0.0883 - val_acc: 0.9744\n",
      "Epoch 2/12\n",
      "60000/60000 [==============================] - 11s 178us/step - loss: 0.1852 - acc: 0.9459 - val_loss: 0.0651 - val_acc: 0.9794\n",
      "Epoch 3/12\n",
      "60000/60000 [==============================] - 11s 180us/step - loss: 0.1475 - acc: 0.9575 - val_loss: 0.0539 - val_acc: 0.9833\n",
      "Epoch 4/12\n",
      "60000/60000 [==============================] - 11s 180us/step - loss: 0.1294 - acc: 0.9631 - val_loss: 0.0450 - val_acc: 0.9844\n",
      "Epoch 5/12\n",
      "60000/60000 [==============================] - 11s 180us/step - loss: 0.1131 - acc: 0.9674 - val_loss: 0.0437 - val_acc: 0.9854\n",
      "Epoch 6/12\n",
      "60000/60000 [==============================] - 11s 179us/step - loss: 0.1100 - acc: 0.9678 - val_loss: 0.0434 - val_acc: 0.9846\n",
      "Epoch 7/12\n",
      "60000/60000 [==============================] - 11s 179us/step - loss: 0.1029 - acc: 0.9712 - val_loss: 0.0363 - val_acc: 0.9876\n",
      "Epoch 8/12\n",
      "60000/60000 [==============================] - 11s 179us/step - loss: 0.0961 - acc: 0.9732 - val_loss: 0.0403 - val_acc: 0.9866\n",
      "Epoch 9/12\n",
      "60000/60000 [==============================] - 11s 179us/step - loss: 0.0897 - acc: 0.9741 - val_loss: 0.0493 - val_acc: 0.9850\n",
      "Epoch 10/12\n",
      "60000/60000 [==============================] - 11s 177us/step - loss: 0.0905 - acc: 0.9745 - val_loss: 0.0329 - val_acc: 0.9891\n",
      "Epoch 11/12\n",
      "60000/60000 [==============================] - 11s 177us/step - loss: 0.0888 - acc: 0.9745 - val_loss: 0.0319 - val_acc: 0.9894\n",
      "Epoch 12/12\n",
      "60000/60000 [==============================] - 11s 178us/step - loss: 0.0839 - acc: 0.9758 - val_loss: 0.0273 - val_acc: 0.9902\n"
     ]
    }
   ],
   "source": [
    "model = Sequential()\n",
    "model.add(Conv2D(\n",
    "    64, kernel_size=(3, 3), activation='relu', input_shape=input_shape,\n",
    "    padding='same'\n",
    "))\n",
    "model.add(Conv2D(32, (3, 3), activation='relu', padding='same'))\n",
    "model.add(MaxPooling2D(pool_size=(2, 2)))\n",
    "model.add(Dropout(rate=0.75))\n",
    "model.add(Flatten())\n",
    "model.add(Dense(256, activation='relu'))\n",
    "model.add(BatchNormalization())\n",
    "model.add(Dropout(rate=0.5))\n",
    "model.add(Dense(128, activation='relu'))\n",
    "model.add(Dropout(rate=0.5))\n",
    "model.add(Dense(num_classes, activation='softmax'))\n",
    "\n",
    "model.compile(loss=keras.losses.categorical_crossentropy,\n",
    "              optimizer=keras.optimizers.Adadelta(),\n",
    "              metrics=['accuracy'])\n",
    "\n",
    "model.summary()\n",
    "\n",
    "history = model.fit(x_train, y_train,\n",
    "              batch_size=batch_size,\n",
    "              epochs=epochs,\n",
    "              verbose=1,\n",
    "              validation_data=(x_test, y_test))\n"
   ]
  },
  {
   "cell_type": "code",
   "execution_count": 10,
   "metadata": {
    "colab": {
     "base_uri": "https://localhost:8080/",
     "height": 316
    },
    "colab_type": "code",
    "id": "GnvSSxTGN_BA",
    "outputId": "9c1f96fa-1a23-4891-f70b-415c1a0a2e01"
   },
   "outputs": [
    {
     "name": "stdout",
     "output_type": "stream",
     "text": [
      "Test score: 0.02731195220287791\n",
      "Test accuracy: 0.9902\n"
     ]
    },
    {
     "data": {
      "image/png": "[encoded data removed]",
      "text/plain": [
       "<Figure size 432x288 with 1 Axes>"
      ]
     },
     "metadata": {
      "tags": []
     },
     "output_type": "display_data"
    }
   ],
   "source": [
    "score = model.evaluate(x_test, y_test, verbose=0) \n",
    "print('Test score:', score[0]) \n",
    "print('Test accuracy:', score[1])\n",
    "\n",
    "fig,ax = plt.subplots(1,1)\n",
    "ax.set_xlabel('epoch') \n",
    "ax.set_ylabel('Categorical Crossentropy Loss')\n",
    "\n",
    "# list of epoch numbers\n",
    "x = list(range(1,epochs+1))\n",
    "\n",
    "vy = history.history['val_loss']\n",
    "ty = history.history['loss']\n",
    "plt_dynamic(fig, x, vy, ty, ax)"
   ]
  },
  {
   "cell_type": "markdown",
   "metadata": {
    "colab_type": "text",
    "id": "bDa8tpfClJVw"
   },
   "source": [
    "## [2] Convolution 5x5 kernel"
   ]
  },
  {
   "cell_type": "markdown",
   "metadata": {
    "colab_type": "text",
    "id": "i0RwKRadlOYQ"
   },
   "source": [
    "### [2.1] Conv (128-64-32) | MaxPool | Dropout x2 | Dense "
   ]
  },
  {
   "cell_type": "code",
   "execution_count": 11,
   "metadata": {
    "colab": {
     "base_uri": "https://localhost:8080/",
     "height": 867
    },
    "colab_type": "code",
    "id": "3wevi7MeOAF6",
    "outputId": "9130e3cf-2deb-4288-f6a6-0a4c2612de2e"
   },
   "outputs": [
    {
     "name": "stdout",
     "output_type": "stream",
     "text": [
      "_________________________________________________________________\n",
      "Layer (type)                 Output Shape              Param #   \n",
      "=================================================================\n",
      "conv2d_5 (Conv2D)            (None, 24, 24, 128)       3328      \n",
      "_________________________________________________________________\n",
      "conv2d_6 (Conv2D)            (None, 20, 20, 64)        204864    \n",
      "_________________________________________________________________\n",
      "max_pooling2d_3 (MaxPooling2 (None, 10, 10, 64)        0         \n",
      "_________________________________________________________________\n",
      "dropout_6 (Dropout)          (None, 10, 10, 64)        0         \n",
      "_________________________________________________________________\n",
      "conv2d_7 (Conv2D)            (None, 6, 6, 32)          51232     \n",
      "_________________________________________________________________\n",
      "flatten_3 (Flatten)          (None, 1152)              0         \n",
      "_________________________________________________________________\n",
      "dense_6 (Dense)              (None, 128)               147584    \n",
      "_________________________________________________________________\n",
      "dropout_7 (Dropout)          (None, 128)               0         \n",
      "_________________________________________________________________\n",
      "dense_7 (Dense)              (None, 10)                1290      \n",
      "=================================================================\n",
      "Total params: 408,298\n",
      "Trainable params: 408,298\n",
      "Non-trainable params: 0\n",
      "_________________________________________________________________\n",
      "Train on 60000 samples, validate on 10000 samples\n",
      "Epoch 1/12\n",
      "60000/60000 [==============================] - 15s 248us/step - loss: 0.3176 - acc: 0.9010 - val_loss: 0.0667 - val_acc: 0.9784\n",
      "Epoch 2/12\n",
      "60000/60000 [==============================] - 14s 225us/step - loss: 0.0948 - acc: 0.9721 - val_loss: 0.0391 - val_acc: 0.9878\n",
      "Epoch 3/12\n",
      "60000/60000 [==============================] - 13s 224us/step - loss: 0.0707 - acc: 0.9795 - val_loss: 0.0281 - val_acc: 0.9909\n",
      "Epoch 4/12\n",
      "60000/60000 [==============================] - 14s 225us/step - loss: 0.0592 - acc: 0.9827 - val_loss: 0.0332 - val_acc: 0.9882\n",
      "Epoch 5/12\n",
      "60000/60000 [==============================] - 14s 226us/step - loss: 0.0534 - acc: 0.9845 - val_loss: 0.0214 - val_acc: 0.9929\n",
      "Epoch 6/12\n",
      "60000/60000 [==============================] - 14s 226us/step - loss: 0.0462 - acc: 0.9866 - val_loss: 0.0255 - val_acc: 0.9912\n",
      "Epoch 7/12\n",
      "60000/60000 [==============================] - 14s 225us/step - loss: 0.0417 - acc: 0.9878 - val_loss: 0.0202 - val_acc: 0.9937\n",
      "Epoch 8/12\n",
      "60000/60000 [==============================] - 13s 225us/step - loss: 0.0395 - acc: 0.9885 - val_loss: 0.0187 - val_acc: 0.9939\n",
      "Epoch 9/12\n",
      "60000/60000 [==============================] - 13s 224us/step - loss: 0.0366 - acc: 0.9894 - val_loss: 0.0181 - val_acc: 0.9942\n",
      "Epoch 10/12\n",
      "60000/60000 [==============================] - 13s 225us/step - loss: 0.0342 - acc: 0.9896 - val_loss: 0.0208 - val_acc: 0.9935\n",
      "Epoch 11/12\n",
      "60000/60000 [==============================] - 14s 226us/step - loss: 0.0338 - acc: 0.9900 - val_loss: 0.0175 - val_acc: 0.9938\n",
      "Epoch 12/12\n",
      "60000/60000 [==============================] - 13s 225us/step - loss: 0.0307 - acc: 0.9913 - val_loss: 0.0181 - val_acc: 0.9943\n"
     ]
    }
   ],
   "source": [
    "model = Sequential()\n",
    "model.add(Conv2D(\n",
    "    128, kernel_size=(5, 5), activation='relu', input_shape=input_shape\n",
    "))\n",
    "model.add(Conv2D(64, (5, 5), activation='relu'))\n",
    "model.add(MaxPooling2D(pool_size=(2, 2)))\n",
    "model.add(Dropout(rate=0.75))\n",
    "model.add(Conv2D(32, (5, 5), activation='relu'))\n",
    "model.add(Flatten())\n",
    "model.add(Dense(128, activation='relu'))\n",
    "model.add(Dropout(rate=0.5))\n",
    "model.add(Dense(num_classes, activation='softmax'))\n",
    "\n",
    "model.compile(loss=keras.losses.categorical_crossentropy,\n",
    "              optimizer=keras.optimizers.Adadelta(),\n",
    "              metrics=['accuracy'])\n",
    "\n",
    "model.summary()\n",
    "\n",
    "history = model.fit(x_train, y_train,\n",
    "              batch_size=batch_size,\n",
    "              epochs=epochs,\n",
    "              verbose=1,\n",
    "              validation_data=(x_test, y_test))\n"
   ]
  },
  {
   "cell_type": "code",
   "execution_count": 12,
   "metadata": {
    "colab": {
     "base_uri": "https://localhost:8080/",
     "height": 313
    },
    "colab_type": "code",
    "id": "Tmc_rDVMPSFO",
    "outputId": "4370e257-1b7e-4cf5-be1c-cb9935c540aa"
   },
   "outputs": [
    {
     "name": "stdout",
     "output_type": "stream",
     "text": [
      "Test score: 0.01806126790735434\n",
      "Test accuracy: 0.9943\n"
     ]
    },
    {
     "data": {
      "image/png": "[encoded data removed]",
      "text/plain": [
       "<Figure size 432x288 with 1 Axes>"
      ]
     },
     "metadata": {
      "tags": []
     },
     "output_type": "display_data"
    }
   ],
   "source": [
    "score = model.evaluate(x_test, y_test, verbose=0) \n",
    "print('Test score:', score[0]) \n",
    "print('Test accuracy:', score[1])\n",
    "\n",
    "fig,ax = plt.subplots(1,1)\n",
    "ax.set_xlabel('epoch') \n",
    "ax.set_ylabel('Categorical Crossentropy Loss')\n",
    "\n",
    "# list of epoch numbers\n",
    "x = list(range(1,epochs+1))\n",
    "\n",
    "vy = history.history['val_loss']\n",
    "ty = history.history['loss']\n",
    "plt_dynamic(fig, x, vy, ty, ax)"
   ]
  },
  {
   "cell_type": "markdown",
   "metadata": {
    "colab_type": "text",
    "id": "_s13tlualaHG"
   },
   "source": [
    "### [2.2] Conv (128-64-32) | MaxPool x2 | Dropout x2 | Dense "
   ]
  },
  {
   "cell_type": "code",
   "execution_count": 13,
   "metadata": {
    "colab": {
     "base_uri": "https://localhost:8080/",
     "height": 901
    },
    "colab_type": "code",
    "id": "vPks7otbPVNH",
    "outputId": "0a9d906f-4928-4a34-ed9b-451dfe9541b4"
   },
   "outputs": [
    {
     "name": "stdout",
     "output_type": "stream",
     "text": [
      "_________________________________________________________________\n",
      "Layer (type)                 Output Shape              Param #   \n",
      "=================================================================\n",
      "conv2d_8 (Conv2D)            (None, 24, 24, 128)       3328      \n",
      "_________________________________________________________________\n",
      "conv2d_9 (Conv2D)            (None, 20, 20, 64)        204864    \n",
      "_________________________________________________________________\n",
      "max_pooling2d_4 (MaxPooling2 (None, 10, 10, 64)        0         \n",
      "_________________________________________________________________\n",
      "dropout_8 (Dropout)          (None, 10, 10, 64)        0         \n",
      "_________________________________________________________________\n",
      "conv2d_10 (Conv2D)           (None, 6, 6, 32)          51232     \n",
      "_________________________________________________________________\n",
      "max_pooling2d_5 (MaxPooling2 (None, 3, 3, 32)          0         \n",
      "_________________________________________________________________\n",
      "flatten_4 (Flatten)          (None, 288)               0         \n",
      "_________________________________________________________________\n",
      "dense_8 (Dense)              (None, 128)               36992     \n",
      "_________________________________________________________________\n",
      "dropout_9 (Dropout)          (None, 128)               0         \n",
      "_________________________________________________________________\n",
      "dense_9 (Dense)              (None, 10)                1290      \n",
      "=================================================================\n",
      "Total params: 297,706\n",
      "Trainable params: 297,706\n",
      "Non-trainable params: 0\n",
      "_________________________________________________________________\n",
      "Train on 60000 samples, validate on 10000 samples\n",
      "Epoch 1/12\n",
      "60000/60000 [==============================] - 15s 244us/step - loss: 0.3735 - acc: 0.8808 - val_loss: 0.0636 - val_acc: 0.9802\n",
      "Epoch 2/12\n",
      "60000/60000 [==============================] - 13s 224us/step - loss: 0.1145 - acc: 0.9659 - val_loss: 0.0415 - val_acc: 0.9866\n",
      "Epoch 3/12\n",
      "60000/60000 [==============================] - 14s 225us/step - loss: 0.0880 - acc: 0.9750 - val_loss: 0.0329 - val_acc: 0.9894\n",
      "Epoch 4/12\n",
      "60000/60000 [==============================] - 14s 226us/step - loss: 0.0711 - acc: 0.9796 - val_loss: 0.0291 - val_acc: 0.9909\n",
      "Epoch 5/12\n",
      "60000/60000 [==============================] - 14s 227us/step - loss: 0.0632 - acc: 0.9814 - val_loss: 0.0279 - val_acc: 0.9912\n",
      "Epoch 6/12\n",
      "60000/60000 [==============================] - 14s 225us/step - loss: 0.0558 - acc: 0.9831 - val_loss: 0.0214 - val_acc: 0.9929\n",
      "Epoch 7/12\n",
      "60000/60000 [==============================] - 13s 225us/step - loss: 0.0521 - acc: 0.9852 - val_loss: 0.0225 - val_acc: 0.9931\n",
      "Epoch 8/12\n",
      "60000/60000 [==============================] - 13s 225us/step - loss: 0.0474 - acc: 0.9857 - val_loss: 0.0193 - val_acc: 0.9939\n",
      "Epoch 9/12\n",
      "60000/60000 [==============================] - 14s 226us/step - loss: 0.0457 - acc: 0.9869 - val_loss: 0.0196 - val_acc: 0.9940\n",
      "Epoch 10/12\n",
      "60000/60000 [==============================] - 14s 225us/step - loss: 0.0414 - acc: 0.9877 - val_loss: 0.0201 - val_acc: 0.9935\n",
      "Epoch 11/12\n",
      "60000/60000 [==============================] - 13s 225us/step - loss: 0.0410 - acc: 0.9879 - val_loss: 0.0204 - val_acc: 0.9931\n",
      "Epoch 12/12\n",
      "60000/60000 [==============================] - 14s 227us/step - loss: 0.0392 - acc: 0.9884 - val_loss: 0.0181 - val_acc: 0.9948\n"
     ]
    }
   ],
   "source": [
    "model = Sequential()\n",
    "model.add(Conv2D(\n",
    "    128, kernel_size=(5, 5), activation='relu', input_shape=input_shape\n",
    "))\n",
    "model.add(Conv2D(64, (5, 5), activation='relu'))\n",
    "model.add(MaxPooling2D(pool_size=(2, 2)))\n",
    "model.add(Dropout(rate=0.75))\n",
    "model.add(Conv2D(32, (5, 5), activation='relu'))\n",
    "model.add(MaxPooling2D(pool_size=(2, 2)))\n",
    "model.add(Flatten())\n",
    "model.add(Dense(128, activation='relu'))\n",
    "model.add(Dropout(rate=0.5))\n",
    "model.add(Dense(num_classes, activation='softmax'))\n",
    "\n",
    "model.compile(loss=keras.losses.categorical_crossentropy,\n",
    "              optimizer=keras.optimizers.Adadelta(),\n",
    "              metrics=['accuracy'])\n",
    "\n",
    "model.summary()\n",
    "\n",
    "history = model.fit(x_train, y_train,\n",
    "              batch_size=batch_size,\n",
    "              epochs=epochs,\n",
    "              verbose=1,\n",
    "              validation_data=(x_test, y_test))\n"
   ]
  },
  {
   "cell_type": "code",
   "execution_count": 14,
   "metadata": {
    "colab": {
     "base_uri": "https://localhost:8080/",
     "height": 313
    },
    "colab_type": "code",
    "id": "bTDrEz6RQorK",
    "outputId": "a7e6c369-a22f-491e-babd-3d06895f7aa4"
   },
   "outputs": [
    {
     "name": "stdout",
     "output_type": "stream",
     "text": [
      "Test score: 0.01805136698151473\n",
      "Test accuracy: 0.9948\n"
     ]
    },
    {
     "data": {
      "image/png": "[encoded data removed]",
      "text/plain": [
       "<Figure size 432x288 with 1 Axes>"
      ]
     },
     "metadata": {
      "tags": []
     },
     "output_type": "display_data"
    }
   ],
   "source": [
    "score = model.evaluate(x_test, y_test, verbose=0) \n",
    "print('Test score:', score[0]) \n",
    "print('Test accuracy:', score[1])\n",
    "\n",
    "fig,ax = plt.subplots(1,1)\n",
    "ax.set_xlabel('epoch') \n",
    "ax.set_ylabel('Categorical Crossentropy Loss')\n",
    "\n",
    "# list of epoch numbers\n",
    "x = list(range(1,epochs+1))\n",
    "\n",
    "vy = history.history['val_loss']\n",
    "ty = history.history['loss']\n",
    "plt_dynamic(fig, x, vy, ty, ax)"
   ]
  },
  {
   "cell_type": "markdown",
   "metadata": {
    "colab_type": "text",
    "id": "lW927xDHlw3t"
   },
   "source": [
    "### [2.3] Conv (128-64-32) | MaxPool x2 | Dropout x3 | Dense | BN x2"
   ]
  },
  {
   "cell_type": "code",
   "execution_count": 15,
   "metadata": {
    "colab": {
     "base_uri": "https://localhost:8080/",
     "height": 1037
    },
    "colab_type": "code",
    "id": "RBk13dFcQz0s",
    "outputId": "8e09d42c-e249-4e6c-a52f-03003119d6ad"
   },
   "outputs": [
    {
     "name": "stdout",
     "output_type": "stream",
     "text": [
      "_________________________________________________________________\n",
      "Layer (type)                 Output Shape              Param #   \n",
      "=================================================================\n",
      "conv2d_11 (Conv2D)           (None, 24, 24, 128)       3328      \n",
      "_________________________________________________________________\n",
      "conv2d_12 (Conv2D)           (None, 20, 20, 64)        204864    \n",
      "_________________________________________________________________\n",
      "max_pooling2d_6 (MaxPooling2 (None, 10, 10, 64)        0         \n",
      "_________________________________________________________________\n",
      "dropout_10 (Dropout)         (None, 10, 10, 64)        0         \n",
      "_________________________________________________________________\n",
      "conv2d_13 (Conv2D)           (None, 6, 6, 32)          51232     \n",
      "_________________________________________________________________\n",
      "max_pooling2d_7 (MaxPooling2 (None, 3, 3, 32)          0         \n",
      "_________________________________________________________________\n",
      "flatten_5 (Flatten)          (None, 288)               0         \n",
      "_________________________________________________________________\n",
      "dense_10 (Dense)             (None, 128)               36992     \n",
      "_________________________________________________________________\n",
      "batch_normalization_3 (Batch (None, 128)               512       \n",
      "_________________________________________________________________\n",
      "dropout_11 (Dropout)         (None, 128)               0         \n",
      "_________________________________________________________________\n",
      "dense_11 (Dense)             (None, 64)                8256      \n",
      "_________________________________________________________________\n",
      "batch_normalization_4 (Batch (None, 64)                256       \n",
      "_________________________________________________________________\n",
      "dropout_12 (Dropout)         (None, 64)                0         \n",
      "_________________________________________________________________\n",
      "dense_12 (Dense)             (None, 10)                650       \n",
      "=================================================================\n",
      "Total params: 306,090\n",
      "Trainable params: 305,706\n",
      "Non-trainable params: 384\n",
      "_________________________________________________________________\n",
      "Train on 60000 samples, validate on 10000 samples\n",
      "Epoch 1/12\n",
      "60000/60000 [==============================] - 17s 286us/step - loss: 0.6473 - acc: 0.8026 - val_loss: 0.0762 - val_acc: 0.9762\n",
      "Epoch 2/12\n",
      "60000/60000 [==============================] - 15s 254us/step - loss: 0.1637 - acc: 0.9542 - val_loss: 0.0502 - val_acc: 0.9842\n",
      "Epoch 3/12\n",
      "60000/60000 [==============================] - 15s 255us/step - loss: 0.1169 - acc: 0.9679 - val_loss: 0.0449 - val_acc: 0.9850\n",
      "Epoch 4/12\n",
      "60000/60000 [==============================] - 15s 256us/step - loss: 0.0968 - acc: 0.9741 - val_loss: 0.0553 - val_acc: 0.9826\n",
      "Epoch 5/12\n",
      "60000/60000 [==============================] - 15s 255us/step - loss: 0.0868 - acc: 0.9762 - val_loss: 0.0358 - val_acc: 0.9885\n",
      "Epoch 6/12\n",
      "60000/60000 [==============================] - 15s 255us/step - loss: 0.0762 - acc: 0.9787 - val_loss: 0.0334 - val_acc: 0.9884\n",
      "Epoch 7/12\n",
      "60000/60000 [==============================] - 15s 256us/step - loss: 0.0715 - acc: 0.9804 - val_loss: 0.0255 - val_acc: 0.9926\n",
      "Epoch 8/12\n",
      "60000/60000 [==============================] - 15s 256us/step - loss: 0.0648 - acc: 0.9823 - val_loss: 0.0251 - val_acc: 0.9926\n",
      "Epoch 9/12\n",
      "60000/60000 [==============================] - 15s 254us/step - loss: 0.0610 - acc: 0.9842 - val_loss: 0.0239 - val_acc: 0.9922\n",
      "Epoch 10/12\n",
      "60000/60000 [==============================] - 15s 254us/step - loss: 0.0606 - acc: 0.9836 - val_loss: 0.0229 - val_acc: 0.9929\n",
      "Epoch 11/12\n",
      "60000/60000 [==============================] - 15s 257us/step - loss: 0.0556 - acc: 0.9848 - val_loss: 0.0217 - val_acc: 0.9933\n",
      "Epoch 12/12\n",
      "60000/60000 [==============================] - 15s 256us/step - loss: 0.0545 - acc: 0.9852 - val_loss: 0.0256 - val_acc: 0.9930\n"
     ]
    }
   ],
   "source": [
    "model = Sequential()\n",
    "model.add(Conv2D(\n",
    "    128, kernel_size=(5, 5), activation='relu', input_shape=input_shape\n",
    "))\n",
    "model.add(Conv2D(64, (5, 5), activation='relu'))\n",
    "model.add(MaxPooling2D(pool_size=(2, 2)))\n",
    "model.add(Dropout(rate=0.75))\n",
    "\n",
    "model.add(Conv2D(32, (5, 5), activation='relu'))\n",
    "model.add(MaxPooling2D(pool_size=(2, 2)))\n",
    "model.add(Flatten())\n",
    "\n",
    "model.add(Dense(128, activation='relu'))\n",
    "model.add(BatchNormalization())\n",
    "model.add(Dropout(rate=0.5))\n",
    "\n",
    "model.add(Dense(64, activation='relu'))\n",
    "model.add(BatchNormalization())\n",
    "model.add(Dropout(rate=0.5))\n",
    "model.add(Dense(num_classes, activation='softmax'))\n",
    "\n",
    "model.compile(loss=keras.losses.categorical_crossentropy,\n",
    "              optimizer=keras.optimizers.Adadelta(),\n",
    "              metrics=['accuracy'])\n",
    "\n",
    "model.summary()\n",
    "\n",
    "history = model.fit(x_train, y_train,\n",
    "              batch_size=batch_size,\n",
    "              epochs=epochs,\n",
    "              verbose=1,\n",
    "              validation_data=(x_test, y_test))\n"
   ]
  },
  {
   "cell_type": "code",
   "execution_count": 16,
   "metadata": {
    "colab": {
     "base_uri": "https://localhost:8080/",
     "height": 313
    },
    "colab_type": "code",
    "id": "n0FjpP8sR8jL",
    "outputId": "3edcbf87-936b-46a2-ca6e-7cfb9318b7c8"
   },
   "outputs": [
    {
     "name": "stdout",
     "output_type": "stream",
     "text": [
      "Test score: 0.025566238133466687\n",
      "Test accuracy: 0.993\n"
     ]
    },
    {
     "data": {
      "image/png": "[encoded data removed]",
      "text/plain": [
       "<Figure size 432x288 with 1 Axes>"
      ]
     },
     "metadata": {
      "tags": []
     },
     "output_type": "display_data"
    }
   ],
   "source": [
    "score = model.evaluate(x_test, y_test, verbose=0) \n",
    "print('Test score:', score[0]) \n",
    "print('Test accuracy:', score[1])\n",
    "\n",
    "fig,ax = plt.subplots(1,1)\n",
    "ax.set_xlabel('epoch') \n",
    "ax.set_ylabel('Categorical Crossentropy Loss')\n",
    "\n",
    "# list of epoch numbers\n",
    "x = list(range(1,epochs+1))\n",
    "\n",
    "vy = history.history['val_loss']\n",
    "ty = history.history['loss']\n",
    "plt_dynamic(fig, x, vy, ty, ax)"
   ]
  },
  {
   "cell_type": "markdown",
   "metadata": {
    "colab_type": "text",
    "id": "hpA2r5COl5hh"
   },
   "source": [
    "### [2.4] Conv (128-64-32) | MaxPool x2 | Dropout x3 | Dense (128-64) | Padding (same) | BN"
   ]
  },
  {
   "cell_type": "code",
   "execution_count": 19,
   "metadata": {
    "colab": {
     "base_uri": "https://localhost:8080/",
     "height": 1071
    },
    "colab_type": "code",
    "id": "lasLlWEsR9f5",
    "outputId": "af772955-9d46-41b5-ec90-1a3b42b16103"
   },
   "outputs": [
    {
     "name": "stdout",
     "output_type": "stream",
     "text": [
      "_________________________________________________________________\n",
      "Layer (type)                 Output Shape              Param #   \n",
      "=================================================================\n",
      "conv2d_18 (Conv2D)           (None, 24, 24, 128)       3328      \n",
      "_________________________________________________________________\n",
      "conv2d_19 (Conv2D)           (None, 24, 24, 64)        204864    \n",
      "_________________________________________________________________\n",
      "max_pooling2d_10 (MaxPooling (None, 12, 12, 64)        0         \n",
      "_________________________________________________________________\n",
      "dropout_14 (Dropout)         (None, 12, 12, 64)        0         \n",
      "_________________________________________________________________\n",
      "conv2d_20 (Conv2D)           (None, 12, 12, 32)        51232     \n",
      "_________________________________________________________________\n",
      "max_pooling2d_11 (MaxPooling (None, 6, 6, 32)          0         \n",
      "_________________________________________________________________\n",
      "conv2d_21 (Conv2D)           (None, 6, 6, 16)          12816     \n",
      "_________________________________________________________________\n",
      "max_pooling2d_12 (MaxPooling (None, 3, 3, 16)          0         \n",
      "_________________________________________________________________\n",
      "flatten_6 (Flatten)          (None, 144)               0         \n",
      "_________________________________________________________________\n",
      "dense_13 (Dense)             (None, 128)               18560     \n",
      "_________________________________________________________________\n",
      "dropout_15 (Dropout)         (None, 128)               0         \n",
      "_________________________________________________________________\n",
      "dense_14 (Dense)             (None, 64)                8256      \n",
      "_________________________________________________________________\n",
      "batch_normalization_5 (Batch (None, 64)                256       \n",
      "_________________________________________________________________\n",
      "dropout_16 (Dropout)         (None, 64)                0         \n",
      "_________________________________________________________________\n",
      "dense_15 (Dense)             (None, 10)                650       \n",
      "=================================================================\n",
      "Total params: 299,962\n",
      "Trainable params: 299,834\n",
      "Non-trainable params: 128\n",
      "_________________________________________________________________\n",
      "Train on 60000 samples, validate on 10000 samples\n",
      "Epoch 1/12\n",
      "60000/60000 [==============================] - 19s 312us/step - loss: 0.6758 - acc: 0.7850 - val_loss: 0.1341 - val_acc: 0.9605\n",
      "Epoch 2/12\n",
      "60000/60000 [==============================] - 16s 265us/step - loss: 0.1654 - acc: 0.9553 - val_loss: 0.0436 - val_acc: 0.9857\n",
      "Epoch 3/12\n",
      "60000/60000 [==============================] - 16s 267us/step - loss: 0.1181 - acc: 0.9691 - val_loss: 0.0512 - val_acc: 0.9848\n",
      "Epoch 4/12\n",
      "60000/60000 [==============================] - 16s 265us/step - loss: 0.0929 - acc: 0.9761 - val_loss: 0.0333 - val_acc: 0.9899\n",
      "Epoch 5/12\n",
      "60000/60000 [==============================] - 16s 264us/step - loss: 0.0817 - acc: 0.9791 - val_loss: 0.0349 - val_acc: 0.9897\n",
      "Epoch 6/12\n",
      "60000/60000 [==============================] - 16s 265us/step - loss: 0.0725 - acc: 0.9813 - val_loss: 0.0300 - val_acc: 0.9915\n",
      "Epoch 7/12\n",
      "60000/60000 [==============================] - 16s 265us/step - loss: 0.0664 - acc: 0.9828 - val_loss: 0.0266 - val_acc: 0.9921\n",
      "Epoch 8/12\n",
      "60000/60000 [==============================] - 16s 263us/step - loss: 0.0607 - acc: 0.9843 - val_loss: 0.0273 - val_acc: 0.9919\n",
      "Epoch 9/12\n",
      "60000/60000 [==============================] - 16s 266us/step - loss: 0.0577 - acc: 0.9853 - val_loss: 0.0286 - val_acc: 0.9917\n",
      "Epoch 10/12\n",
      "60000/60000 [==============================] - 16s 268us/step - loss: 0.0528 - acc: 0.9865 - val_loss: 0.0222 - val_acc: 0.9931\n",
      "Epoch 11/12\n",
      "60000/60000 [==============================] - 16s 265us/step - loss: 0.0483 - acc: 0.9875 - val_loss: 0.0230 - val_acc: 0.9938\n",
      "Epoch 12/12\n",
      "60000/60000 [==============================] - 16s 265us/step - loss: 0.0476 - acc: 0.9876 - val_loss: 0.0211 - val_acc: 0.9942\n"
     ]
    }
   ],
   "source": [
    "model = Sequential()\n",
    "model.add(Conv2D(\n",
    "    128, kernel_size=(5, 5), activation='relu', input_shape=input_shape\n",
    "))\n",
    "model.add(Conv2D(64, (5, 5), activation='relu', padding='same'))\n",
    "model.add(MaxPooling2D(pool_size=(2, 2)))\n",
    "model.add(Dropout(rate=0.75))\n",
    "\n",
    "model.add(Conv2D(32, (5, 5), activation='relu', padding='same'))\n",
    "model.add(MaxPooling2D(pool_size=(2, 2)))\n",
    "\n",
    "model.add(Conv2D(16, (5, 5), activation='relu', padding='same'))\n",
    "model.add(MaxPooling2D(pool_size=(2, 2)))\n",
    "\n",
    "model.add(Flatten())\n",
    "\n",
    "model.add(Dense(128, activation='relu'))\n",
    "model.add(Dropout(rate=0.5))\n",
    "\n",
    "model.add(Dense(64, activation='relu'))\n",
    "model.add(BatchNormalization())\n",
    "model.add(Dropout(rate=0.5))\n",
    "model.add(Dense(num_classes, activation='softmax'))\n",
    "\n",
    "model.compile(loss=keras.losses.categorical_crossentropy,\n",
    "              optimizer=keras.optimizers.Adadelta(),\n",
    "              metrics=['accuracy'])\n",
    "\n",
    "model.summary()\n",
    "\n",
    "history = model.fit(x_train, y_train,\n",
    "              batch_size=batch_size,\n",
    "              epochs=epochs,\n",
    "              verbose=1,\n",
    "              validation_data=(x_test, y_test))\n"
   ]
  },
  {
   "cell_type": "code",
   "execution_count": 20,
   "metadata": {
    "colab": {
     "base_uri": "https://localhost:8080/",
     "height": 315
    },
    "colab_type": "code",
    "id": "ZxGKgm0AT49C",
    "outputId": "12f07b75-dd19-4927-c1a8-03ccff86492c"
   },
   "outputs": [
    {
     "name": "stdout",
     "output_type": "stream",
     "text": [
      "Test score: 0.021092254675126605\n",
      "Test accuracy: 0.9942\n"
     ]
    },
    {
     "data": {
      "image/png": "[encoded data removed]",
      "text/plain": [
       "<Figure size 432x288 with 1 Axes>"
      ]
     },
     "metadata": {
      "tags": []
     },
     "output_type": "display_data"
    }
   ],
   "source": [
    "score = model.evaluate(x_test, y_test, verbose=0) \n",
    "print('Test score:', score[0]) \n",
    "print('Test accuracy:', score[1])\n",
    "\n",
    "fig,ax = plt.subplots(1,1)\n",
    "ax.set_xlabel('epoch') \n",
    "ax.set_ylabel('Categorical Crossentropy Loss')\n",
    "\n",
    "# list of epoch numbers\n",
    "x = list(range(1,epochs+1))\n",
    "\n",
    "vy = history.history['val_loss']\n",
    "ty = history.history['loss']\n",
    "plt_dynamic(fig, x, vy, ty, ax)"
   ]
  },
  {
   "cell_type": "markdown",
   "metadata": {
    "colab_type": "text",
    "id": "7KWUG2ximGku"
   },
   "source": [
    "## [3] Convolution 7x7 kernel"
   ]
  },
  {
   "cell_type": "markdown",
   "metadata": {
    "colab_type": "text",
    "id": "vQsJ0fAQmKXA"
   },
   "source": [
    "### [3.1] Conv (128-64-32) | MaxPool x2 | Dropout x3 | Dense (128-64) | Padding (same) | BN"
   ]
  },
  {
   "cell_type": "code",
   "execution_count": 21,
   "metadata": {
    "colab": {
     "base_uri": "https://localhost:8080/",
     "height": 1003
    },
    "colab_type": "code",
    "id": "yb2QCHmwUGqF",
    "outputId": "8b233867-8b1f-42d8-bc1b-4a92052adcaa"
   },
   "outputs": [
    {
     "name": "stdout",
     "output_type": "stream",
     "text": [
      "_________________________________________________________________\n",
      "Layer (type)                 Output Shape              Param #   \n",
      "=================================================================\n",
      "conv2d_22 (Conv2D)           (None, 28, 28, 128)       6400      \n",
      "_________________________________________________________________\n",
      "conv2d_23 (Conv2D)           (None, 28, 28, 64)        401472    \n",
      "_________________________________________________________________\n",
      "max_pooling2d_13 (MaxPooling (None, 14, 14, 64)        0         \n",
      "_________________________________________________________________\n",
      "dropout_17 (Dropout)         (None, 14, 14, 64)        0         \n",
      "_________________________________________________________________\n",
      "conv2d_24 (Conv2D)           (None, 14, 14, 32)        100384    \n",
      "_________________________________________________________________\n",
      "max_pooling2d_14 (MaxPooling (None, 7, 7, 32)          0         \n",
      "_________________________________________________________________\n",
      "flatten_7 (Flatten)          (None, 1568)              0         \n",
      "_________________________________________________________________\n",
      "dense_16 (Dense)             (None, 128)               200832    \n",
      "_________________________________________________________________\n",
      "dropout_18 (Dropout)         (None, 128)               0         \n",
      "_________________________________________________________________\n",
      "dense_17 (Dense)             (None, 64)                8256      \n",
      "_________________________________________________________________\n",
      "batch_normalization_6 (Batch (None, 64)                256       \n",
      "_________________________________________________________________\n",
      "dropout_19 (Dropout)         (None, 64)                0         \n",
      "_________________________________________________________________\n",
      "dense_18 (Dense)             (None, 10)                650       \n",
      "=================================================================\n",
      "Total params: 718,250\n",
      "Trainable params: 718,122\n",
      "Non-trainable params: 128\n",
      "_________________________________________________________________\n",
      "Train on 60000 samples, validate on 10000 samples\n",
      "Epoch 1/12\n",
      "60000/60000 [==============================] - 44s 730us/step - loss: 0.5227 - acc: 0.8442 - val_loss: 0.0664 - val_acc: 0.9797\n",
      "Epoch 2/12\n",
      "60000/60000 [==============================] - 40s 658us/step - loss: 0.1290 - acc: 0.9663 - val_loss: 0.0359 - val_acc: 0.9893\n",
      "Epoch 3/12\n",
      "60000/60000 [==============================] - 39s 654us/step - loss: 0.0981 - acc: 0.9746 - val_loss: 0.0384 - val_acc: 0.9885\n",
      "Epoch 4/12\n",
      "60000/60000 [==============================] - 39s 654us/step - loss: 0.0809 - acc: 0.9795 - val_loss: 0.0265 - val_acc: 0.9923\n",
      "Epoch 5/12\n",
      "60000/60000 [==============================] - 39s 654us/step - loss: 0.0640 - acc: 0.9830 - val_loss: 0.0258 - val_acc: 0.9926\n",
      "Epoch 6/12\n",
      "60000/60000 [==============================] - 39s 653us/step - loss: 0.0596 - acc: 0.9847 - val_loss: 0.0178 - val_acc: 0.9948\n",
      "Epoch 7/12\n",
      "60000/60000 [==============================] - 39s 653us/step - loss: 0.0533 - acc: 0.9860 - val_loss: 0.0201 - val_acc: 0.9947\n",
      "Epoch 8/12\n",
      "60000/60000 [==============================] - 39s 653us/step - loss: 0.0515 - acc: 0.9869 - val_loss: 0.0184 - val_acc: 0.9947\n",
      "Epoch 9/12\n",
      "60000/60000 [==============================] - 39s 655us/step - loss: 0.0456 - acc: 0.9882 - val_loss: 0.0234 - val_acc: 0.9929\n",
      "Epoch 10/12\n",
      "60000/60000 [==============================] - 39s 655us/step - loss: 0.0445 - acc: 0.9889 - val_loss: 0.0221 - val_acc: 0.9936\n",
      "Epoch 11/12\n",
      "60000/60000 [==============================] - 39s 653us/step - loss: 0.0390 - acc: 0.9901 - val_loss: 0.0205 - val_acc: 0.9941\n",
      "Epoch 12/12\n",
      "60000/60000 [==============================] - 39s 655us/step - loss: 0.0407 - acc: 0.9906 - val_loss: 0.0197 - val_acc: 0.9940\n"
     ]
    }
   ],
   "source": [
    "model = Sequential()\n",
    "model.add(Conv2D(\n",
    "    128, kernel_size=(7, 7), activation='relu', input_shape=input_shape, \n",
    "    padding='same'\n",
    "))\n",
    "model.add(Conv2D(64, (7, 7), activation='relu', padding='same'))\n",
    "model.add(MaxPooling2D(pool_size=(2, 2)))\n",
    "model.add(Dropout(rate=0.75))\n",
    "\n",
    "model.add(Conv2D(32, (7, 7), activation='relu', padding='same'))\n",
    "model.add(MaxPooling2D(pool_size=(2, 2)))\n",
    "\n",
    "model.add(Flatten())\n",
    "\n",
    "model.add(Dense(128, activation='relu'))\n",
    "model.add(Dropout(rate=0.5))\n",
    "\n",
    "model.add(Dense(64, activation='relu'))\n",
    "model.add(BatchNormalization())\n",
    "model.add(Dropout(rate=0.5))\n",
    "model.add(Dense(num_classes, activation='softmax'))\n",
    "\n",
    "model.compile(loss=keras.losses.categorical_crossentropy,\n",
    "              optimizer=keras.optimizers.Adadelta(),\n",
    "              metrics=['accuracy'])\n",
    "\n",
    "model.summary()\n",
    "\n",
    "history = model.fit(x_train, y_train,\n",
    "              batch_size=batch_size,\n",
    "              epochs=epochs,\n",
    "              verbose=1,\n",
    "              validation_data=(x_test, y_test))\n"
   ]
  },
  {
   "cell_type": "code",
   "execution_count": 22,
   "metadata": {
    "colab": {
     "base_uri": "https://localhost:8080/",
     "height": 313
    },
    "colab_type": "code",
    "id": "iCBpwhWxVbWl",
    "outputId": "54f4e85a-e540-49e9-a600-112f6fb70fdf"
   },
   "outputs": [
    {
     "name": "stdout",
     "output_type": "stream",
     "text": [
      "Test score: 0.01969538862556292\n",
      "Test accuracy: 0.994\n"
     ]
    },
    {
     "data": {
      "image/png": "[encoded data removed]",
      "text/plain": [
       "<Figure size 432x288 with 1 Axes>"
      ]
     },
     "metadata": {
      "tags": []
     },
     "output_type": "display_data"
    }
   ],
   "source": [
    "score = model.evaluate(x_test, y_test, verbose=0) \n",
    "print('Test score:', score[0]) \n",
    "print('Test accuracy:', score[1])\n",
    "\n",
    "fig,ax = plt.subplots(1,1)\n",
    "ax.set_xlabel('epoch') \n",
    "ax.set_ylabel('Categorical Crossentropy Loss')\n",
    "\n",
    "# list of epoch numbers\n",
    "x = list(range(1,epochs+1))\n",
    "\n",
    "vy = history.history['val_loss']\n",
    "ty = history.history['loss']\n",
    "plt_dynamic(fig, x, vy, ty, ax)"
   ]
  },
  {
   "cell_type": "markdown",
   "metadata": {
    "colab_type": "text",
    "id": "KBMC926JmXsA"
   },
   "source": [
    "### [3.2] Conv (256-128-64) | MaxPool x2 | Dropout x3 | Dense (128-64) | Padding (same) | BN"
   ]
  },
  {
   "cell_type": "code",
   "execution_count": 23,
   "metadata": {
    "colab": {
     "base_uri": "https://localhost:8080/",
     "height": 1003
    },
    "colab_type": "code",
    "id": "P8D2_VPGVk8q",
    "outputId": "c8f60025-4a31-4f82-f2cf-fe476ee40567"
   },
   "outputs": [
    {
     "name": "stdout",
     "output_type": "stream",
     "text": [
      "_________________________________________________________________\n",
      "Layer (type)                 Output Shape              Param #   \n",
      "=================================================================\n",
      "conv2d_25 (Conv2D)           (None, 28, 28, 256)       12800     \n",
      "_________________________________________________________________\n",
      "conv2d_26 (Conv2D)           (None, 28, 28, 128)       1605760   \n",
      "_________________________________________________________________\n",
      "max_pooling2d_15 (MaxPooling (None, 14, 14, 128)       0         \n",
      "_________________________________________________________________\n",
      "dropout_20 (Dropout)         (None, 14, 14, 128)       0         \n",
      "_________________________________________________________________\n",
      "conv2d_27 (Conv2D)           (None, 14, 14, 64)        401472    \n",
      "_________________________________________________________________\n",
      "max_pooling2d_16 (MaxPooling (None, 7, 7, 64)          0         \n",
      "_________________________________________________________________\n",
      "flatten_8 (Flatten)          (None, 3136)              0         \n",
      "_________________________________________________________________\n",
      "dense_19 (Dense)             (None, 128)               401536    \n",
      "_________________________________________________________________\n",
      "dropout_21 (Dropout)         (None, 128)               0         \n",
      "_________________________________________________________________\n",
      "dense_20 (Dense)             (None, 64)                8256      \n",
      "_________________________________________________________________\n",
      "batch_normalization_7 (Batch (None, 64)                256       \n",
      "_________________________________________________________________\n",
      "dropout_22 (Dropout)         (None, 64)                0         \n",
      "_________________________________________________________________\n",
      "dense_21 (Dense)             (None, 10)                650       \n",
      "=================================================================\n",
      "Total params: 2,430,730\n",
      "Trainable params: 2,430,602\n",
      "Non-trainable params: 128\n",
      "_________________________________________________________________\n",
      "Train on 60000 samples, validate on 10000 samples\n",
      "Epoch 1/12\n",
      "60000/60000 [==============================] - 105s 2ms/step - loss: 0.5354 - acc: 0.8444 - val_loss: 0.0612 - val_acc: 0.9818\n",
      "Epoch 2/12\n",
      "60000/60000 [==============================] - 98s 2ms/step - loss: 0.1085 - acc: 0.9717 - val_loss: 0.0419 - val_acc: 0.9859\n",
      "Epoch 3/12\n",
      "60000/60000 [==============================] - 98s 2ms/step - loss: 0.0757 - acc: 0.9808 - val_loss: 0.0331 - val_acc: 0.9892\n",
      "Epoch 4/12\n",
      "60000/60000 [==============================] - 98s 2ms/step - loss: 0.0634 - acc: 0.9843 - val_loss: 0.0258 - val_acc: 0.9914\n",
      "Epoch 5/12\n",
      "60000/60000 [==============================] - 98s 2ms/step - loss: 0.0515 - acc: 0.9865 - val_loss: 0.0200 - val_acc: 0.9939\n",
      "Epoch 6/12\n",
      "60000/60000 [==============================] - 98s 2ms/step - loss: 0.0446 - acc: 0.9885 - val_loss: 0.0216 - val_acc: 0.9936\n",
      "Epoch 7/12\n",
      "60000/60000 [==============================] - 98s 2ms/step - loss: 0.0424 - acc: 0.9894 - val_loss: 0.0185 - val_acc: 0.9946\n",
      "Epoch 8/12\n",
      "60000/60000 [==============================] - 98s 2ms/step - loss: 0.0379 - acc: 0.9904 - val_loss: 0.0174 - val_acc: 0.9946\n",
      "Epoch 9/12\n",
      "60000/60000 [==============================] - 98s 2ms/step - loss: 0.0353 - acc: 0.9915 - val_loss: 0.0174 - val_acc: 0.9949\n",
      "Epoch 10/12\n",
      "60000/60000 [==============================] - 98s 2ms/step - loss: 0.0332 - acc: 0.9915 - val_loss: 0.0145 - val_acc: 0.9961\n",
      "Epoch 11/12\n",
      "60000/60000 [==============================] - 98s 2ms/step - loss: 0.0321 - acc: 0.9920 - val_loss: 0.0166 - val_acc: 0.9952\n",
      "Epoch 12/12\n",
      "60000/60000 [==============================] - 98s 2ms/step - loss: 0.0311 - acc: 0.9923 - val_loss: 0.0140 - val_acc: 0.9963\n"
     ]
    }
   ],
   "source": [
    "model = Sequential()\n",
    "model.add(Conv2D(\n",
    "    256, kernel_size=(7, 7), activation='relu', input_shape=input_shape, \n",
    "    padding='same'\n",
    "))\n",
    "model.add(Conv2D(128, (7, 7), activation='relu', padding='same'))\n",
    "model.add(MaxPooling2D(pool_size=(2, 2)))\n",
    "model.add(Dropout(rate=0.75))\n",
    "\n",
    "model.add(Conv2D(64, (7, 7), activation='relu', padding='same'))\n",
    "model.add(MaxPooling2D(pool_size=(2, 2)))\n",
    "\n",
    "model.add(Flatten())\n",
    "\n",
    "model.add(Dense(128, activation='relu'))\n",
    "model.add(Dropout(rate=0.5))\n",
    "\n",
    "model.add(Dense(64, activation='relu'))\n",
    "model.add(BatchNormalization())\n",
    "model.add(Dropout(rate=0.5))\n",
    "model.add(Dense(num_classes, activation='softmax'))\n",
    "\n",
    "model.compile(loss=keras.losses.categorical_crossentropy,\n",
    "              optimizer=keras.optimizers.Adadelta(),\n",
    "              metrics=['accuracy'])\n",
    "\n",
    "model.summary()\n",
    "\n",
    "history = model.fit(x_train, y_train,\n",
    "              batch_size=batch_size,\n",
    "              epochs=epochs,\n",
    "              verbose=1,\n",
    "              validation_data=(x_test, y_test))\n"
   ]
  },
  {
   "cell_type": "code",
   "execution_count": 24,
   "metadata": {
    "colab": {
     "base_uri": "https://localhost:8080/",
     "height": 313
    },
    "colab_type": "code",
    "id": "byvanralX3lA",
    "outputId": "3f30c49a-93eb-4e12-b959-2cf4dc33424c"
   },
   "outputs": [
    {
     "name": "stdout",
     "output_type": "stream",
     "text": [
      "Test score: 0.013979462474265165\n",
      "Test accuracy: 0.9963\n"
     ]
    },
    {
     "data": {
      "image/png": "[encoded data removed]",
      "text/plain": [
       "<Figure size 432x288 with 1 Axes>"
      ]
     },
     "metadata": {
      "tags": []
     },
     "output_type": "display_data"
    }
   ],
   "source": [
    "score = model.evaluate(x_test, y_test, verbose=0) \n",
    "print('Test score:', score[0]) \n",
    "print('Test accuracy:', score[1])\n",
    "\n",
    "fig,ax = plt.subplots(1,1)\n",
    "ax.set_xlabel('epoch') \n",
    "ax.set_ylabel('Categorical Crossentropy Loss')\n",
    "\n",
    "# list of epoch numbers\n",
    "x = list(range(1,epochs+1))\n",
    "\n",
    "vy = history.history['val_loss']\n",
    "ty = history.history['loss']\n",
    "plt_dynamic(fig, x, vy, ty, ax)"
   ]
  },
  {
   "cell_type": "markdown",
   "metadata": {
    "colab_type": "text",
    "id": "Y3efzjZomiHZ"
   },
   "source": [
    "### [3.3] Conv (256-128-64) | MaxPool x2 | Dropout x3 | Dense (256-128-64) | Padding (same) | BN"
   ]
  },
  {
   "cell_type": "code",
   "execution_count": 25,
   "metadata": {
    "colab": {
     "base_uri": "https://localhost:8080/",
     "height": 1071
    },
    "colab_type": "code",
    "id": "SlvL_ihHX4gB",
    "outputId": "1be284d0-3734-4b1c-c8a6-2842dc37aa62"
   },
   "outputs": [
    {
     "name": "stdout",
     "output_type": "stream",
     "text": [
      "_________________________________________________________________\n",
      "Layer (type)                 Output Shape              Param #   \n",
      "=================================================================\n",
      "conv2d_28 (Conv2D)           (None, 28, 28, 256)       12800     \n",
      "_________________________________________________________________\n",
      "conv2d_29 (Conv2D)           (None, 28, 28, 128)       1605760   \n",
      "_________________________________________________________________\n",
      "max_pooling2d_17 (MaxPooling (None, 14, 14, 128)       0         \n",
      "_________________________________________________________________\n",
      "dropout_23 (Dropout)         (None, 14, 14, 128)       0         \n",
      "_________________________________________________________________\n",
      "conv2d_30 (Conv2D)           (None, 14, 14, 64)        401472    \n",
      "_________________________________________________________________\n",
      "max_pooling2d_18 (MaxPooling (None, 7, 7, 64)          0         \n",
      "_________________________________________________________________\n",
      "flatten_9 (Flatten)          (None, 3136)              0         \n",
      "_________________________________________________________________\n",
      "dense_22 (Dense)             (None, 256)               803072    \n",
      "_________________________________________________________________\n",
      "dropout_24 (Dropout)         (None, 256)               0         \n",
      "_________________________________________________________________\n",
      "dense_23 (Dense)             (None, 128)               32896     \n",
      "_________________________________________________________________\n",
      "batch_normalization_8 (Batch (None, 128)               512       \n",
      "_________________________________________________________________\n",
      "dropout_25 (Dropout)         (None, 128)               0         \n",
      "_________________________________________________________________\n",
      "dense_24 (Dense)             (None, 64)                8256      \n",
      "_________________________________________________________________\n",
      "dropout_26 (Dropout)         (None, 64)                0         \n",
      "_________________________________________________________________\n",
      "dense_25 (Dense)             (None, 10)                650       \n",
      "=================================================================\n",
      "Total params: 2,865,418\n",
      "Trainable params: 2,865,162\n",
      "Non-trainable params: 256\n",
      "_________________________________________________________________\n",
      "Train on 60000 samples, validate on 10000 samples\n",
      "Epoch 1/12\n",
      "60000/60000 [==============================] - 102s 2ms/step - loss: 0.8578 - acc: 0.7385 - val_loss: 0.0965 - val_acc: 0.9729\n",
      "Epoch 2/12\n",
      "60000/60000 [==============================] - 98s 2ms/step - loss: 0.1542 - acc: 0.9620 - val_loss: 0.0402 - val_acc: 0.9894\n",
      "Epoch 3/12\n",
      "60000/60000 [==============================] - 98s 2ms/step - loss: 0.1067 - acc: 0.9739 - val_loss: 0.0375 - val_acc: 0.9908\n",
      "Epoch 4/12\n",
      "60000/60000 [==============================] - 98s 2ms/step - loss: 0.0844 - acc: 0.9801 - val_loss: 0.0308 - val_acc: 0.9924\n",
      "Epoch 5/12\n",
      "60000/60000 [==============================] - 99s 2ms/step - loss: 0.0757 - acc: 0.9829 - val_loss: 0.0254 - val_acc: 0.9931\n",
      "Epoch 6/12\n",
      "60000/60000 [==============================] - 99s 2ms/step - loss: 0.0674 - acc: 0.9841 - val_loss: 0.0279 - val_acc: 0.9925\n",
      "Epoch 7/12\n",
      "60000/60000 [==============================] - 99s 2ms/step - loss: 0.0603 - acc: 0.9869 - val_loss: 0.0230 - val_acc: 0.9937\n",
      "Epoch 8/12\n",
      "60000/60000 [==============================] - 99s 2ms/step - loss: 0.0569 - acc: 0.9875 - val_loss: 0.0234 - val_acc: 0.9946\n",
      "Epoch 9/12\n",
      "60000/60000 [==============================] - 99s 2ms/step - loss: 0.0519 - acc: 0.9882 - val_loss: 0.0218 - val_acc: 0.9943\n",
      "Epoch 10/12\n",
      "60000/60000 [==============================] - 98s 2ms/step - loss: 0.0480 - acc: 0.9891 - val_loss: 0.0172 - val_acc: 0.9955\n",
      "Epoch 11/12\n",
      "60000/60000 [==============================] - 99s 2ms/step - loss: 0.0478 - acc: 0.9893 - val_loss: 0.0212 - val_acc: 0.9947\n",
      "Epoch 12/12\n",
      "60000/60000 [==============================] - 99s 2ms/step - loss: 0.0435 - acc: 0.9901 - val_loss: 0.0227 - val_acc: 0.9948\n"
     ]
    }
   ],
   "source": [
    "model = Sequential()\n",
    "model.add(Conv2D(\n",
    "    256, kernel_size=(7, 7), activation='relu', input_shape=input_shape, \n",
    "    padding='same'\n",
    "))\n",
    "model.add(Conv2D(128, (7, 7), activation='relu', padding='same'))\n",
    "model.add(MaxPooling2D(pool_size=(2, 2)))\n",
    "model.add(Dropout(rate=0.75))\n",
    "\n",
    "model.add(Conv2D(64, (7, 7), activation='relu', padding='same'))\n",
    "model.add(MaxPooling2D(pool_size=(2, 2)))\n",
    "\n",
    "model.add(Flatten())\n",
    "\n",
    "model.add(Dense(256, activation='relu'))\n",
    "model.add(Dropout(rate=0.5))\n",
    "\n",
    "model.add(Dense(128, activation='relu'))\n",
    "model.add(BatchNormalization())\n",
    "model.add(Dropout(rate=0.5))\n",
    "\n",
    "model.add(Dense(64, activation='relu'))\n",
    "model.add(Dropout(rate=0.5))\n",
    "\n",
    "model.add(Dense(num_classes, activation='softmax'))\n",
    "\n",
    "model.compile(loss=keras.losses.categorical_crossentropy,\n",
    "              optimizer=keras.optimizers.Adadelta(),\n",
    "              metrics=['accuracy'])\n",
    "\n",
    "model.summary()\n",
    "\n",
    "history = model.fit(x_train, y_train,\n",
    "              batch_size=batch_size,\n",
    "              epochs=epochs,\n",
    "              verbose=1,\n",
    "              validation_data=(x_test, y_test))\n"
   ]
  },
  {
   "cell_type": "code",
   "execution_count": 26,
   "metadata": {
    "colab": {
     "base_uri": "https://localhost:8080/",
     "height": 313
    },
    "colab_type": "code",
    "id": "KzeYB5i4c6Xs",
    "outputId": "2f5783eb-9538-48eb-e9b4-5e29bbd29ac1"
   },
   "outputs": [
    {
     "name": "stdout",
     "output_type": "stream",
     "text": [
      "Test score: 0.022675232545581774\n",
      "Test accuracy: 0.9948\n"
     ]
    },
    {
     "data": {
      "image/png": "[encoded data removed]",
      "text/plain": [
       "<Figure size 432x288 with 1 Axes>"
      ]
     },
     "metadata": {
      "tags": []
     },
     "output_type": "display_data"
    }
   ],
   "source": [
    "score = model.evaluate(x_test, y_test, verbose=0) \n",
    "print('Test score:', score[0]) \n",
    "print('Test accuracy:', score[1])\n",
    "\n",
    "fig,ax = plt.subplots(1,1)\n",
    "ax.set_xlabel('epoch') \n",
    "ax.set_ylabel('Categorical Crossentropy Loss')\n",
    "\n",
    "# list of epoch numbers\n",
    "x = list(range(1,epochs+1))\n",
    "\n",
    "vy = history.history['val_loss']\n",
    "ty = history.history['loss']\n",
    "plt_dynamic(fig, x, vy, ty, ax)"
   ]
  },
  {
   "cell_type": "markdown",
   "metadata": {
    "colab": {},
    "colab_type": "code",
    "id": "niK4jJ2lc7V3"
   },
   "source": [
    "## [4] Conclusion"
   ]
  },
  {
   "cell_type": "code",
   "execution_count": 1,
   "metadata": {},
   "outputs": [],
   "source": [
    "from prettytable import PrettyTable"
   ]
  },
  {
   "cell_type": "code",
   "execution_count": 2,
   "metadata": {},
   "outputs": [],
   "source": [
    "x = PrettyTable()\n",
    "x.field_names = [\"convolution kernel\", \"architecture\", \"Test Accuracy\"]"
   ]
  },
  {
   "cell_type": "code",
   "execution_count": 3,
   "metadata": {},
   "outputs": [
    {
     "name": "stdout",
     "output_type": "stream",
     "text": [
      "+--------------------+----------------------------------------------------------------------------------------+---------------+\n",
      "| convolution kernel |                                      architecture                                      | Test Accuracy |\n",
      "+--------------------+----------------------------------------------------------------------------------------+---------------+\n",
      "|        3x3         |                       Conv(32-64) | MaxPool | Dropout x2 | Dense                       |     0.9903    |\n",
      "|        3x3         |                      Conv (64-32) | MaxPool | Dropout x2 | Dense                       |     0.9893    |\n",
      "|        3x3         |              Conv (64-32) | MaxPool | Dropout x2 | Dense | Padding (same)              |     0.9888    |\n",
      "|        3x3         |           Conv (64-32) | MaxPool | Dropout x2 | Dense | Padding (same) | BN            |     0.9896    |\n",
      "|        3x3         |      Conv (64-32) | MaxPool | Dropout x2 | Dense (256-128) | Padding (same) | BN       |     0.9902    |\n",
      "|        5x5         |                    Conv (128-64-32) | MaxPool | Dropout x2 | Dense                     |     0.9943    |\n",
      "|        5x5         |                   Conv (128-64-32) | MaxPool x2 | Dropout x2 | Dense                   |     0.9948    |\n",
      "|        5x5         |               Conv (128-64-32) | MaxPool x2 | Dropout x3 | Dense | BN x2               |     0.993     |\n",
      "|        5x5         |   Conv (128-64-32) | MaxPool x2 | Dropout x3 | Dense (128-64) | Padding (same) | BN    |     0.9942    |\n",
      "|        7x7         |   Conv (128-64-32) | MaxPool x2 | Dropout x3 | Dense (128-64) | Padding (same) | BN    |     0.994     |\n",
      "|        7x7         |   Conv (256-128-64) | MaxPool x2 | Dropout x3 | Dense (128-64) | Padding (same) | BN   |     0.9963    |\n",
      "|        7x7         | Conv (256-128-64) | MaxPool x2 | Dropout x3 | Dense (256-128-64) | Padding (same) | BN |     0.9948    |\n",
      "+--------------------+----------------------------------------------------------------------------------------+---------------+\n"
     ]
    }
   ],
   "source": [
    "x.add_row([\"3x3\", \"Conv(32-64) | MaxPool | Dropout x2 | Dense\", 0.9903])\n",
    "x.add_row([\"3x3\", \"Conv (64-32) | MaxPool | Dropout x2 | Dense\", 0.9893])\n",
    "x.add_row([\"3x3\", \"Conv (64-32) | MaxPool | Dropout x2 | Dense | Padding (same)\", 0.9888])\n",
    "x.add_row([\"3x3\", \"Conv (64-32) | MaxPool | Dropout x2 | Dense | Padding (same) | BN\", 0.9896])\n",
    "x.add_row([\"3x3\", \"Conv (64-32) | MaxPool | Dropout x2 | Dense (256-128) | Padding (same) | BN\", 0.9902])\n",
    "x.add_row([\"5x5\", \"Conv (128-64-32) | MaxPool | Dropout x2 | Dense\", 0.9943])\n",
    "x.add_row([\"5x5\", \"Conv (128-64-32) | MaxPool x2 | Dropout x2 | Dense\", 0.9948])\n",
    "x.add_row([\"5x5\", \"Conv (128-64-32) | MaxPool x2 | Dropout x3 | Dense | BN x2\", 0.993])\n",
    "x.add_row([\"5x5\", \"Conv (128-64-32) | MaxPool x2 | Dropout x3 | Dense (128-64) | Padding (same) | BN\", 0.9942])\n",
    "x.add_row([\"7x7\", \"Conv (128-64-32) | MaxPool x2 | Dropout x3 | Dense (128-64) | Padding (same) | BN\", 0.9940])\n",
    "x.add_row([\"7x7\", \"Conv (256-128-64) | MaxPool x2 | Dropout x3 | Dense (128-64) | Padding (same) | BN\", 0.9963])\n",
    "x.add_row([\"7x7\", \"Conv (256-128-64) | MaxPool x2 | Dropout x3 | Dense (256-128-64) | Padding (same) | BN\", 0.9948])\n",
    "print(x)"
   ]
  }
 ],
 "metadata": {
  "accelerator": "GPU",
  "colab": {
   "collapsed_sections": [],
   "name": "13_cnn_mnist.ipnyb",
   "provenance": [],
   "version": "0.3.2"
  },
  "kernelspec": {
   "display_name": "Python 3",
   "language": "python",
   "name": "python3"
  },
  "language_info": {
   "codemirror_mode": {
    "name": "ipython",
    "version": 3
   },
   "file_extension": ".py",
   "mimetype": "text/x-python",
   "name": "python",
   "nbconvert_exporter": "python",
   "pygments_lexer": "ipython3",
   "version": "3.6.8"
  }
 },
 "nbformat": 4,
 "nbformat_minor": 1
}
